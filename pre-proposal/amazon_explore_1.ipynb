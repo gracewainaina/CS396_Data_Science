{
 "cells": [
  {
   "cell_type": "code",
   "execution_count": 2,
   "id": "e1a999c3-4ac4-43d0-a2c1-9eb645406e53",
   "metadata": {},
   "outputs": [],
   "source": [
    "import pandas as pd"
   ]
  },
  {
   "cell_type": "code",
   "execution_count": 4,
   "id": "61127403-2f7a-4912-9365-2c5608222e29",
   "metadata": {},
   "outputs": [
    {
     "name": "stdout",
     "output_type": "stream",
     "text": [
      "/Users/auraulloa/Desktop/DataSciencePipeline\n"
     ]
    }
   ],
   "source": [
    "!pwd"
   ]
  },
  {
   "cell_type": "markdown",
   "id": "4a53151e-5b48-4a44-b8c3-cec2d692d815",
   "metadata": {},
   "source": [
    "# Books and eBooks EDA"
   ]
  },
  {
   "cell_type": "code",
   "execution_count": 3,
   "id": "197bde0e-f69f-4bc3-b4e3-a477012eb6e6",
   "metadata": {},
   "outputs": [],
   "source": [
    "path = '/Users/auraulloa/Desktop/DataSciencePipeline/'\n",
    "book_path = 'amazon_dataset/amazon_reviews_Books.tsv'\n",
    "ebook_path = 'amazon_dataset/amazon_reviews_Digital_Ebook.tsv'"
   ]
  },
  {
   "cell_type": "code",
   "execution_count": 6,
   "id": "1004445e-6a35-4cb4-933f-fe9b45c370fe",
   "metadata": {},
   "outputs": [],
   "source": [
    "ebook_df = pd.read_csv(ebook_path, delimiter = '\\t', quoting = 3)\n",
    "book_df = pd.read_csv(book_path, delimiter='\\t', quoting = 3)"
   ]
  },
  {
   "cell_type": "code",
   "execution_count": 7,
   "id": "6b64dcc7-cd9f-4693-8cf1-c7f489a8be4f",
   "metadata": {},
   "outputs": [
    {
     "data": {
      "text/html": [
       "<div>\n",
       "<style scoped>\n",
       "    .dataframe tbody tr th:only-of-type {\n",
       "        vertical-align: middle;\n",
       "    }\n",
       "\n",
       "    .dataframe tbody tr th {\n",
       "        vertical-align: top;\n",
       "    }\n",
       "\n",
       "    .dataframe thead th {\n",
       "        text-align: right;\n",
       "    }\n",
       "</style>\n",
       "<table border=\"1\" class=\"dataframe\">\n",
       "  <thead>\n",
       "    <tr style=\"text-align: right;\">\n",
       "      <th></th>\n",
       "      <th>marketplace</th>\n",
       "      <th>customer_id</th>\n",
       "      <th>review_id</th>\n",
       "      <th>product_id</th>\n",
       "      <th>product_parent</th>\n",
       "      <th>product_title</th>\n",
       "      <th>product_category</th>\n",
       "      <th>star_rating</th>\n",
       "      <th>helpful_votes</th>\n",
       "      <th>total_votes</th>\n",
       "      <th>vine</th>\n",
       "      <th>verified_purchase</th>\n",
       "      <th>review_headline</th>\n",
       "      <th>review_body</th>\n",
       "      <th>review_date</th>\n",
       "    </tr>\n",
       "  </thead>\n",
       "  <tbody>\n",
       "    <tr>\n",
       "      <th>0</th>\n",
       "      <td>US</td>\n",
       "      <td>33605939</td>\n",
       "      <td>RGYFDX8QXKEIR</td>\n",
       "      <td>B007KO2MLO</td>\n",
       "      <td>328837464</td>\n",
       "      <td>Big Maria</td>\n",
       "      <td>Digital_Ebook_Purchase</td>\n",
       "      <td>4</td>\n",
       "      <td>0</td>\n",
       "      <td>0</td>\n",
       "      <td>N</td>\n",
       "      <td>N</td>\n",
       "      <td>Quirky</td>\n",
       "      <td>Elmore Leonard meets the cast of Sierra Madre....</td>\n",
       "      <td>2013-09-09</td>\n",
       "    </tr>\n",
       "    <tr>\n",
       "      <th>1</th>\n",
       "      <td>US</td>\n",
       "      <td>34058393</td>\n",
       "      <td>R13CBGTMNV9R8Z</td>\n",
       "      <td>B005FLODDE</td>\n",
       "      <td>764276359</td>\n",
       "      <td>The Woman Who Wasn't There: The True Story of ...</td>\n",
       "      <td>Digital_Ebook_Purchase</td>\n",
       "      <td>4</td>\n",
       "      <td>1</td>\n",
       "      <td>2</td>\n",
       "      <td>N</td>\n",
       "      <td>Y</td>\n",
       "      <td>The Woman Who Wasn't There</td>\n",
       "      <td>This book was very interesting. It is a true s...</td>\n",
       "      <td>2013-09-09</td>\n",
       "    </tr>\n",
       "    <tr>\n",
       "      <th>2</th>\n",
       "      <td>US</td>\n",
       "      <td>39601147</td>\n",
       "      <td>R7DRFHC0F71O0</td>\n",
       "      <td>B00EA3L35O</td>\n",
       "      <td>535606445</td>\n",
       "      <td>Mary had A Sleepy Sheep</td>\n",
       "      <td>Digital_Ebook_Purchase</td>\n",
       "      <td>5</td>\n",
       "      <td>0</td>\n",
       "      <td>0</td>\n",
       "      <td>N</td>\n",
       "      <td>N</td>\n",
       "      <td>This Sleepy Sheep rocks!</td>\n",
       "      <td>I had the opportunity to review Mary had a Sle...</td>\n",
       "      <td>2013-09-09</td>\n",
       "    </tr>\n",
       "    <tr>\n",
       "      <th>3</th>\n",
       "      <td>US</td>\n",
       "      <td>17351407</td>\n",
       "      <td>R27LUKEXU3KBXQ</td>\n",
       "      <td>B00BL3JV50</td>\n",
       "      <td>240053004</td>\n",
       "      <td>Starstruck</td>\n",
       "      <td>Digital_Ebook_Purchase</td>\n",
       "      <td>5</td>\n",
       "      <td>1</td>\n",
       "      <td>1</td>\n",
       "      <td>N</td>\n",
       "      <td>Y</td>\n",
       "      <td>Steamy and suspenseful!!!!!</td>\n",
       "      <td>What a great read!  I really couldn't put this...</td>\n",
       "      <td>2013-09-09</td>\n",
       "    </tr>\n",
       "    <tr>\n",
       "      <th>4</th>\n",
       "      <td>US</td>\n",
       "      <td>10463387</td>\n",
       "      <td>R1VXTPUYMNU687</td>\n",
       "      <td>B00CXU7U80</td>\n",
       "      <td>931529805</td>\n",
       "      <td>The Complete Conan Saga</td>\n",
       "      <td>Digital_Ebook_Purchase</td>\n",
       "      <td>5</td>\n",
       "      <td>1</td>\n",
       "      <td>2</td>\n",
       "      <td>N</td>\n",
       "      <td>N</td>\n",
       "      <td>Barbarians</td>\n",
       "      <td>Barbarians need love too !  Short stories work...</td>\n",
       "      <td>2013-09-09</td>\n",
       "    </tr>\n",
       "  </tbody>\n",
       "</table>\n",
       "</div>"
      ],
      "text/plain": [
       "  marketplace  customer_id       review_id  product_id  product_parent  \\\n",
       "0          US     33605939   RGYFDX8QXKEIR  B007KO2MLO       328837464   \n",
       "1          US     34058393  R13CBGTMNV9R8Z  B005FLODDE       764276359   \n",
       "2          US     39601147   R7DRFHC0F71O0  B00EA3L35O       535606445   \n",
       "3          US     17351407  R27LUKEXU3KBXQ  B00BL3JV50       240053004   \n",
       "4          US     10463387  R1VXTPUYMNU687  B00CXU7U80       931529805   \n",
       "\n",
       "                                       product_title        product_category  \\\n",
       "0                                          Big Maria  Digital_Ebook_Purchase   \n",
       "1  The Woman Who Wasn't There: The True Story of ...  Digital_Ebook_Purchase   \n",
       "2                            Mary had A Sleepy Sheep  Digital_Ebook_Purchase   \n",
       "3                                         Starstruck  Digital_Ebook_Purchase   \n",
       "4                            The Complete Conan Saga  Digital_Ebook_Purchase   \n",
       "\n",
       "   star_rating  helpful_votes  total_votes vine verified_purchase  \\\n",
       "0            4              0            0    N                 N   \n",
       "1            4              1            2    N                 Y   \n",
       "2            5              0            0    N                 N   \n",
       "3            5              1            1    N                 Y   \n",
       "4            5              1            2    N                 N   \n",
       "\n",
       "               review_headline  \\\n",
       "0                       Quirky   \n",
       "1   The Woman Who Wasn't There   \n",
       "2     This Sleepy Sheep rocks!   \n",
       "3  Steamy and suspenseful!!!!!   \n",
       "4                   Barbarians   \n",
       "\n",
       "                                         review_body review_date  \n",
       "0  Elmore Leonard meets the cast of Sierra Madre....  2013-09-09  \n",
       "1  This book was very interesting. It is a true s...  2013-09-09  \n",
       "2  I had the opportunity to review Mary had a Sle...  2013-09-09  \n",
       "3  What a great read!  I really couldn't put this...  2013-09-09  \n",
       "4  Barbarians need love too !  Short stories work...  2013-09-09  "
      ]
     },
     "execution_count": 7,
     "metadata": {},
     "output_type": "execute_result"
    }
   ],
   "source": [
    "ebook_df.head()"
   ]
  },
  {
   "cell_type": "code",
   "execution_count": 8,
   "id": "f166901a-6102-4c3f-8a59-83eee51e90c1",
   "metadata": {},
   "outputs": [
    {
     "data": {
      "text/html": [
       "<div>\n",
       "<style scoped>\n",
       "    .dataframe tbody tr th:only-of-type {\n",
       "        vertical-align: middle;\n",
       "    }\n",
       "\n",
       "    .dataframe tbody tr th {\n",
       "        vertical-align: top;\n",
       "    }\n",
       "\n",
       "    .dataframe thead th {\n",
       "        text-align: right;\n",
       "    }\n",
       "</style>\n",
       "<table border=\"1\" class=\"dataframe\">\n",
       "  <thead>\n",
       "    <tr style=\"text-align: right;\">\n",
       "      <th></th>\n",
       "      <th>marketplace</th>\n",
       "      <th>customer_id</th>\n",
       "      <th>review_id</th>\n",
       "      <th>product_id</th>\n",
       "      <th>product_parent</th>\n",
       "      <th>product_title</th>\n",
       "      <th>product_category</th>\n",
       "      <th>star_rating</th>\n",
       "      <th>helpful_votes</th>\n",
       "      <th>total_votes</th>\n",
       "      <th>vine</th>\n",
       "      <th>verified_purchase</th>\n",
       "      <th>review_headline</th>\n",
       "      <th>review_body</th>\n",
       "      <th>review_date</th>\n",
       "    </tr>\n",
       "  </thead>\n",
       "  <tbody>\n",
       "    <tr>\n",
       "      <th>0</th>\n",
       "      <td>US</td>\n",
       "      <td>12076615</td>\n",
       "      <td>RQ58W7SMO911M</td>\n",
       "      <td>0385730586</td>\n",
       "      <td>122662979</td>\n",
       "      <td>Sisterhood of the Traveling Pants (Book 1)</td>\n",
       "      <td>Books</td>\n",
       "      <td>4</td>\n",
       "      <td>2</td>\n",
       "      <td>3</td>\n",
       "      <td>N</td>\n",
       "      <td>N</td>\n",
       "      <td>this book was a great learning novel!</td>\n",
       "      <td>this boook was a great one that you could lear...</td>\n",
       "      <td>2005-10-14</td>\n",
       "    </tr>\n",
       "    <tr>\n",
       "      <th>1</th>\n",
       "      <td>US</td>\n",
       "      <td>12703090</td>\n",
       "      <td>RF6IUKMGL8SF</td>\n",
       "      <td>0811828964</td>\n",
       "      <td>56191234</td>\n",
       "      <td>The Bad Girl's Guide to Getting What You Want</td>\n",
       "      <td>Books</td>\n",
       "      <td>3</td>\n",
       "      <td>5</td>\n",
       "      <td>5</td>\n",
       "      <td>N</td>\n",
       "      <td>N</td>\n",
       "      <td>Fun Fluff</td>\n",
       "      <td>If you are looking for something to stimulate ...</td>\n",
       "      <td>2005-10-14</td>\n",
       "    </tr>\n",
       "    <tr>\n",
       "      <th>2</th>\n",
       "      <td>US</td>\n",
       "      <td>12257412</td>\n",
       "      <td>R1DOSHH6AI622S</td>\n",
       "      <td>1844161560</td>\n",
       "      <td>253182049</td>\n",
       "      <td>Eisenhorn (A Warhammer 40,000 Omnibus)</td>\n",
       "      <td>Books</td>\n",
       "      <td>4</td>\n",
       "      <td>1</td>\n",
       "      <td>22</td>\n",
       "      <td>N</td>\n",
       "      <td>N</td>\n",
       "      <td>this isn't a review</td>\n",
       "      <td>never read it-a young relative idicated he lik...</td>\n",
       "      <td>2005-10-14</td>\n",
       "    </tr>\n",
       "    <tr>\n",
       "      <th>3</th>\n",
       "      <td>US</td>\n",
       "      <td>50732546</td>\n",
       "      <td>RATOTLA3OF70O</td>\n",
       "      <td>0373836635</td>\n",
       "      <td>348672532</td>\n",
       "      <td>Colby Conspiracy (Colby Agency)</td>\n",
       "      <td>Books</td>\n",
       "      <td>5</td>\n",
       "      <td>2</td>\n",
       "      <td>2</td>\n",
       "      <td>N</td>\n",
       "      <td>N</td>\n",
       "      <td>fine author on her A-game</td>\n",
       "      <td>Though she is honored to be Chicago Woman of t...</td>\n",
       "      <td>2005-10-14</td>\n",
       "    </tr>\n",
       "    <tr>\n",
       "      <th>4</th>\n",
       "      <td>US</td>\n",
       "      <td>51964897</td>\n",
       "      <td>R1TNWRKIVHVYOV</td>\n",
       "      <td>0262181533</td>\n",
       "      <td>598678717</td>\n",
       "      <td>The Psychology of Proof: Deductive Reasoning i...</td>\n",
       "      <td>Books</td>\n",
       "      <td>4</td>\n",
       "      <td>0</td>\n",
       "      <td>2</td>\n",
       "      <td>N</td>\n",
       "      <td>N</td>\n",
       "      <td>Execellent cursor examination</td>\n",
       "      <td>Review based on a cursory examination by Unive...</td>\n",
       "      <td>2005-10-14</td>\n",
       "    </tr>\n",
       "  </tbody>\n",
       "</table>\n",
       "</div>"
      ],
      "text/plain": [
       "  marketplace  customer_id       review_id  product_id  product_parent  \\\n",
       "0          US     12076615   RQ58W7SMO911M  0385730586       122662979   \n",
       "1          US     12703090    RF6IUKMGL8SF  0811828964        56191234   \n",
       "2          US     12257412  R1DOSHH6AI622S  1844161560       253182049   \n",
       "3          US     50732546   RATOTLA3OF70O  0373836635       348672532   \n",
       "4          US     51964897  R1TNWRKIVHVYOV  0262181533       598678717   \n",
       "\n",
       "                                       product_title product_category  \\\n",
       "0         Sisterhood of the Traveling Pants (Book 1)            Books   \n",
       "1      The Bad Girl's Guide to Getting What You Want            Books   \n",
       "2             Eisenhorn (A Warhammer 40,000 Omnibus)            Books   \n",
       "3                    Colby Conspiracy (Colby Agency)            Books   \n",
       "4  The Psychology of Proof: Deductive Reasoning i...            Books   \n",
       "\n",
       "   star_rating  helpful_votes  total_votes vine verified_purchase  \\\n",
       "0            4              2            3    N                 N   \n",
       "1            3              5            5    N                 N   \n",
       "2            4              1           22    N                 N   \n",
       "3            5              2            2    N                 N   \n",
       "4            4              0            2    N                 N   \n",
       "\n",
       "                         review_headline  \\\n",
       "0  this book was a great learning novel!   \n",
       "1                              Fun Fluff   \n",
       "2                    this isn't a review   \n",
       "3              fine author on her A-game   \n",
       "4          Execellent cursor examination   \n",
       "\n",
       "                                         review_body review_date  \n",
       "0  this boook was a great one that you could lear...  2005-10-14  \n",
       "1  If you are looking for something to stimulate ...  2005-10-14  \n",
       "2  never read it-a young relative idicated he lik...  2005-10-14  \n",
       "3  Though she is honored to be Chicago Woman of t...  2005-10-14  \n",
       "4  Review based on a cursory examination by Unive...  2005-10-14  "
      ]
     },
     "execution_count": 8,
     "metadata": {},
     "output_type": "execute_result"
    }
   ],
   "source": [
    "book_df.head()"
   ]
  },
  {
   "cell_type": "code",
   "execution_count": 9,
   "id": "79e21f0b-8abd-4e2d-8fe7-5406c4ddeeb6",
   "metadata": {},
   "outputs": [],
   "source": [
    "#df2.merge(temp, on='business_id', how='left').dropna()"
   ]
  },
  {
   "cell_type": "code",
   "execution_count": 10,
   "id": "dd3763a8-45ea-4c8c-b4d0-bcaeb7e0c6e0",
   "metadata": {},
   "outputs": [
    {
     "name": "stdout",
     "output_type": "stream",
     "text": [
      "<class 'pandas.core.frame.DataFrame'>\n",
      "RangeIndex: 3105520 entries, 0 to 3105519\n",
      "Data columns (total 15 columns):\n",
      " #   Column             Dtype \n",
      "---  ------             ----- \n",
      " 0   marketplace        object\n",
      " 1   customer_id        int64 \n",
      " 2   review_id          object\n",
      " 3   product_id         object\n",
      " 4   product_parent     int64 \n",
      " 5   product_title      object\n",
      " 6   product_category   object\n",
      " 7   star_rating        int64 \n",
      " 8   helpful_votes      int64 \n",
      " 9   total_votes        int64 \n",
      " 10  vine               object\n",
      " 11  verified_purchase  object\n",
      " 12  review_headline    object\n",
      " 13  review_body        object\n",
      " 14  review_date        object\n",
      "dtypes: int64(5), object(10)\n",
      "memory usage: 355.4+ MB\n"
     ]
    }
   ],
   "source": [
    "book_df.info()"
   ]
  },
  {
   "cell_type": "code",
   "execution_count": 11,
   "id": "bdeb6ed6-d6d9-4410-b8f0-8497538dbed0",
   "metadata": {},
   "outputs": [
    {
     "name": "stdout",
     "output_type": "stream",
     "text": [
      "<class 'pandas.core.frame.DataFrame'>\n",
      "RangeIndex: 5101693 entries, 0 to 5101692\n",
      "Data columns (total 15 columns):\n",
      " #   Column             Dtype \n",
      "---  ------             ----- \n",
      " 0   marketplace        object\n",
      " 1   customer_id        int64 \n",
      " 2   review_id          object\n",
      " 3   product_id         object\n",
      " 4   product_parent     int64 \n",
      " 5   product_title      object\n",
      " 6   product_category   object\n",
      " 7   star_rating        int64 \n",
      " 8   helpful_votes      int64 \n",
      " 9   total_votes        int64 \n",
      " 10  vine               object\n",
      " 11  verified_purchase  object\n",
      " 12  review_headline    object\n",
      " 13  review_body        object\n",
      " 14  review_date        object\n",
      "dtypes: int64(5), object(10)\n",
      "memory usage: 583.8+ MB\n"
     ]
    }
   ],
   "source": [
    "ebook_df.info()"
   ]
  },
  {
   "cell_type": "code",
   "execution_count": 12,
   "id": "adfc1f20-993b-493d-a8cd-29f48a46ff87",
   "metadata": {},
   "outputs": [],
   "source": [
    "book_df[\"year\"] = book_df[\"review_date\"].map(lambda x: str(x)[:4])"
   ]
  },
  {
   "cell_type": "code",
   "execution_count": 13,
   "id": "ba4bdc3d-b6a2-4ebf-a476-bb30a36e5afb",
   "metadata": {},
   "outputs": [
    {
     "data": {
      "text/html": [
       "<div>\n",
       "<style scoped>\n",
       "    .dataframe tbody tr th:only-of-type {\n",
       "        vertical-align: middle;\n",
       "    }\n",
       "\n",
       "    .dataframe tbody tr th {\n",
       "        vertical-align: top;\n",
       "    }\n",
       "\n",
       "    .dataframe thead th {\n",
       "        text-align: right;\n",
       "    }\n",
       "</style>\n",
       "<table border=\"1\" class=\"dataframe\">\n",
       "  <thead>\n",
       "    <tr style=\"text-align: right;\">\n",
       "      <th></th>\n",
       "      <th>marketplace</th>\n",
       "      <th>customer_id</th>\n",
       "      <th>review_id</th>\n",
       "      <th>product_id</th>\n",
       "      <th>product_parent</th>\n",
       "      <th>product_title</th>\n",
       "      <th>product_category</th>\n",
       "      <th>star_rating</th>\n",
       "      <th>helpful_votes</th>\n",
       "      <th>total_votes</th>\n",
       "      <th>vine</th>\n",
       "      <th>verified_purchase</th>\n",
       "      <th>review_headline</th>\n",
       "      <th>review_body</th>\n",
       "      <th>review_date</th>\n",
       "      <th>year</th>\n",
       "    </tr>\n",
       "  </thead>\n",
       "  <tbody>\n",
       "    <tr>\n",
       "      <th>0</th>\n",
       "      <td>US</td>\n",
       "      <td>12076615</td>\n",
       "      <td>RQ58W7SMO911M</td>\n",
       "      <td>0385730586</td>\n",
       "      <td>122662979</td>\n",
       "      <td>Sisterhood of the Traveling Pants (Book 1)</td>\n",
       "      <td>Books</td>\n",
       "      <td>4</td>\n",
       "      <td>2</td>\n",
       "      <td>3</td>\n",
       "      <td>N</td>\n",
       "      <td>N</td>\n",
       "      <td>this book was a great learning novel!</td>\n",
       "      <td>this boook was a great one that you could lear...</td>\n",
       "      <td>2005-10-14</td>\n",
       "      <td>2005</td>\n",
       "    </tr>\n",
       "    <tr>\n",
       "      <th>1</th>\n",
       "      <td>US</td>\n",
       "      <td>12703090</td>\n",
       "      <td>RF6IUKMGL8SF</td>\n",
       "      <td>0811828964</td>\n",
       "      <td>56191234</td>\n",
       "      <td>The Bad Girl's Guide to Getting What You Want</td>\n",
       "      <td>Books</td>\n",
       "      <td>3</td>\n",
       "      <td>5</td>\n",
       "      <td>5</td>\n",
       "      <td>N</td>\n",
       "      <td>N</td>\n",
       "      <td>Fun Fluff</td>\n",
       "      <td>If you are looking for something to stimulate ...</td>\n",
       "      <td>2005-10-14</td>\n",
       "      <td>2005</td>\n",
       "    </tr>\n",
       "    <tr>\n",
       "      <th>2</th>\n",
       "      <td>US</td>\n",
       "      <td>12257412</td>\n",
       "      <td>R1DOSHH6AI622S</td>\n",
       "      <td>1844161560</td>\n",
       "      <td>253182049</td>\n",
       "      <td>Eisenhorn (A Warhammer 40,000 Omnibus)</td>\n",
       "      <td>Books</td>\n",
       "      <td>4</td>\n",
       "      <td>1</td>\n",
       "      <td>22</td>\n",
       "      <td>N</td>\n",
       "      <td>N</td>\n",
       "      <td>this isn't a review</td>\n",
       "      <td>never read it-a young relative idicated he lik...</td>\n",
       "      <td>2005-10-14</td>\n",
       "      <td>2005</td>\n",
       "    </tr>\n",
       "    <tr>\n",
       "      <th>3</th>\n",
       "      <td>US</td>\n",
       "      <td>50732546</td>\n",
       "      <td>RATOTLA3OF70O</td>\n",
       "      <td>0373836635</td>\n",
       "      <td>348672532</td>\n",
       "      <td>Colby Conspiracy (Colby Agency)</td>\n",
       "      <td>Books</td>\n",
       "      <td>5</td>\n",
       "      <td>2</td>\n",
       "      <td>2</td>\n",
       "      <td>N</td>\n",
       "      <td>N</td>\n",
       "      <td>fine author on her A-game</td>\n",
       "      <td>Though she is honored to be Chicago Woman of t...</td>\n",
       "      <td>2005-10-14</td>\n",
       "      <td>2005</td>\n",
       "    </tr>\n",
       "    <tr>\n",
       "      <th>4</th>\n",
       "      <td>US</td>\n",
       "      <td>51964897</td>\n",
       "      <td>R1TNWRKIVHVYOV</td>\n",
       "      <td>0262181533</td>\n",
       "      <td>598678717</td>\n",
       "      <td>The Psychology of Proof: Deductive Reasoning i...</td>\n",
       "      <td>Books</td>\n",
       "      <td>4</td>\n",
       "      <td>0</td>\n",
       "      <td>2</td>\n",
       "      <td>N</td>\n",
       "      <td>N</td>\n",
       "      <td>Execellent cursor examination</td>\n",
       "      <td>Review based on a cursory examination by Unive...</td>\n",
       "      <td>2005-10-14</td>\n",
       "      <td>2005</td>\n",
       "    </tr>\n",
       "  </tbody>\n",
       "</table>\n",
       "</div>"
      ],
      "text/plain": [
       "  marketplace  customer_id       review_id  product_id  product_parent  \\\n",
       "0          US     12076615   RQ58W7SMO911M  0385730586       122662979   \n",
       "1          US     12703090    RF6IUKMGL8SF  0811828964        56191234   \n",
       "2          US     12257412  R1DOSHH6AI622S  1844161560       253182049   \n",
       "3          US     50732546   RATOTLA3OF70O  0373836635       348672532   \n",
       "4          US     51964897  R1TNWRKIVHVYOV  0262181533       598678717   \n",
       "\n",
       "                                       product_title product_category  \\\n",
       "0         Sisterhood of the Traveling Pants (Book 1)            Books   \n",
       "1      The Bad Girl's Guide to Getting What You Want            Books   \n",
       "2             Eisenhorn (A Warhammer 40,000 Omnibus)            Books   \n",
       "3                    Colby Conspiracy (Colby Agency)            Books   \n",
       "4  The Psychology of Proof: Deductive Reasoning i...            Books   \n",
       "\n",
       "   star_rating  helpful_votes  total_votes vine verified_purchase  \\\n",
       "0            4              2            3    N                 N   \n",
       "1            3              5            5    N                 N   \n",
       "2            4              1           22    N                 N   \n",
       "3            5              2            2    N                 N   \n",
       "4            4              0            2    N                 N   \n",
       "\n",
       "                         review_headline  \\\n",
       "0  this book was a great learning novel!   \n",
       "1                              Fun Fluff   \n",
       "2                    this isn't a review   \n",
       "3              fine author on her A-game   \n",
       "4          Execellent cursor examination   \n",
       "\n",
       "                                         review_body review_date  year  \n",
       "0  this boook was a great one that you could lear...  2005-10-14  2005  \n",
       "1  If you are looking for something to stimulate ...  2005-10-14  2005  \n",
       "2  never read it-a young relative idicated he lik...  2005-10-14  2005  \n",
       "3  Though she is honored to be Chicago Woman of t...  2005-10-14  2005  \n",
       "4  Review based on a cursory examination by Unive...  2005-10-14  2005  "
      ]
     },
     "execution_count": 13,
     "metadata": {},
     "output_type": "execute_result"
    }
   ],
   "source": [
    "book_df.head()"
   ]
  },
  {
   "cell_type": "code",
   "execution_count": 14,
   "id": "27a51fa5-4f23-401d-95ba-eb541ca0a546",
   "metadata": {},
   "outputs": [
    {
     "data": {
      "text/plain": [
       "year\n",
       "1995       198\n",
       "1996      4670\n",
       "1997     36610\n",
       "1998    120851\n",
       "1999    244559\n",
       "2000    540480\n",
       "2001    444910\n",
       "2002    426921\n",
       "2003    440023\n",
       "2004    440393\n",
       "2005    405905\n",
       "Name: marketplace, dtype: int64"
      ]
     },
     "execution_count": 14,
     "metadata": {},
     "output_type": "execute_result"
    }
   ],
   "source": [
    "counts = book_df.groupby(\"year\").count()\n",
    "counts[\"marketplace\"]"
   ]
  },
  {
   "cell_type": "code",
   "execution_count": 15,
   "id": "19dc55e8-c381-44ed-9df9-de1932e3c643",
   "metadata": {},
   "outputs": [
    {
     "data": {
      "text/html": [
       "<div>\n",
       "<style scoped>\n",
       "    .dataframe tbody tr th:only-of-type {\n",
       "        vertical-align: middle;\n",
       "    }\n",
       "\n",
       "    .dataframe tbody tr th {\n",
       "        vertical-align: top;\n",
       "    }\n",
       "\n",
       "    .dataframe thead th {\n",
       "        text-align: right;\n",
       "    }\n",
       "</style>\n",
       "<table border=\"1\" class=\"dataframe\">\n",
       "  <thead>\n",
       "    <tr style=\"text-align: right;\">\n",
       "      <th></th>\n",
       "      <th>marketplace</th>\n",
       "      <th>customer_id</th>\n",
       "      <th>review_id</th>\n",
       "      <th>product_id</th>\n",
       "      <th>product_parent</th>\n",
       "      <th>product_title</th>\n",
       "      <th>product_category</th>\n",
       "      <th>star_rating</th>\n",
       "      <th>helpful_votes</th>\n",
       "      <th>total_votes</th>\n",
       "      <th>vine</th>\n",
       "      <th>verified_purchase</th>\n",
       "      <th>review_headline</th>\n",
       "      <th>review_body</th>\n",
       "      <th>review_date</th>\n",
       "      <th>year</th>\n",
       "    </tr>\n",
       "  </thead>\n",
       "  <tbody>\n",
       "    <tr>\n",
       "      <th>0</th>\n",
       "      <td>US</td>\n",
       "      <td>33605939</td>\n",
       "      <td>RGYFDX8QXKEIR</td>\n",
       "      <td>B007KO2MLO</td>\n",
       "      <td>328837464</td>\n",
       "      <td>Big Maria</td>\n",
       "      <td>Digital_Ebook_Purchase</td>\n",
       "      <td>4</td>\n",
       "      <td>0</td>\n",
       "      <td>0</td>\n",
       "      <td>N</td>\n",
       "      <td>N</td>\n",
       "      <td>Quirky</td>\n",
       "      <td>Elmore Leonard meets the cast of Sierra Madre....</td>\n",
       "      <td>2013-09-09</td>\n",
       "      <td>2013</td>\n",
       "    </tr>\n",
       "    <tr>\n",
       "      <th>1</th>\n",
       "      <td>US</td>\n",
       "      <td>34058393</td>\n",
       "      <td>R13CBGTMNV9R8Z</td>\n",
       "      <td>B005FLODDE</td>\n",
       "      <td>764276359</td>\n",
       "      <td>The Woman Who Wasn't There: The True Story of ...</td>\n",
       "      <td>Digital_Ebook_Purchase</td>\n",
       "      <td>4</td>\n",
       "      <td>1</td>\n",
       "      <td>2</td>\n",
       "      <td>N</td>\n",
       "      <td>Y</td>\n",
       "      <td>The Woman Who Wasn't There</td>\n",
       "      <td>This book was very interesting. It is a true s...</td>\n",
       "      <td>2013-09-09</td>\n",
       "      <td>2013</td>\n",
       "    </tr>\n",
       "    <tr>\n",
       "      <th>2</th>\n",
       "      <td>US</td>\n",
       "      <td>39601147</td>\n",
       "      <td>R7DRFHC0F71O0</td>\n",
       "      <td>B00EA3L35O</td>\n",
       "      <td>535606445</td>\n",
       "      <td>Mary had A Sleepy Sheep</td>\n",
       "      <td>Digital_Ebook_Purchase</td>\n",
       "      <td>5</td>\n",
       "      <td>0</td>\n",
       "      <td>0</td>\n",
       "      <td>N</td>\n",
       "      <td>N</td>\n",
       "      <td>This Sleepy Sheep rocks!</td>\n",
       "      <td>I had the opportunity to review Mary had a Sle...</td>\n",
       "      <td>2013-09-09</td>\n",
       "      <td>2013</td>\n",
       "    </tr>\n",
       "    <tr>\n",
       "      <th>3</th>\n",
       "      <td>US</td>\n",
       "      <td>17351407</td>\n",
       "      <td>R27LUKEXU3KBXQ</td>\n",
       "      <td>B00BL3JV50</td>\n",
       "      <td>240053004</td>\n",
       "      <td>Starstruck</td>\n",
       "      <td>Digital_Ebook_Purchase</td>\n",
       "      <td>5</td>\n",
       "      <td>1</td>\n",
       "      <td>1</td>\n",
       "      <td>N</td>\n",
       "      <td>Y</td>\n",
       "      <td>Steamy and suspenseful!!!!!</td>\n",
       "      <td>What a great read!  I really couldn't put this...</td>\n",
       "      <td>2013-09-09</td>\n",
       "      <td>2013</td>\n",
       "    </tr>\n",
       "    <tr>\n",
       "      <th>4</th>\n",
       "      <td>US</td>\n",
       "      <td>10463387</td>\n",
       "      <td>R1VXTPUYMNU687</td>\n",
       "      <td>B00CXU7U80</td>\n",
       "      <td>931529805</td>\n",
       "      <td>The Complete Conan Saga</td>\n",
       "      <td>Digital_Ebook_Purchase</td>\n",
       "      <td>5</td>\n",
       "      <td>1</td>\n",
       "      <td>2</td>\n",
       "      <td>N</td>\n",
       "      <td>N</td>\n",
       "      <td>Barbarians</td>\n",
       "      <td>Barbarians need love too !  Short stories work...</td>\n",
       "      <td>2013-09-09</td>\n",
       "      <td>2013</td>\n",
       "    </tr>\n",
       "  </tbody>\n",
       "</table>\n",
       "</div>"
      ],
      "text/plain": [
       "  marketplace  customer_id       review_id  product_id  product_parent  \\\n",
       "0          US     33605939   RGYFDX8QXKEIR  B007KO2MLO       328837464   \n",
       "1          US     34058393  R13CBGTMNV9R8Z  B005FLODDE       764276359   \n",
       "2          US     39601147   R7DRFHC0F71O0  B00EA3L35O       535606445   \n",
       "3          US     17351407  R27LUKEXU3KBXQ  B00BL3JV50       240053004   \n",
       "4          US     10463387  R1VXTPUYMNU687  B00CXU7U80       931529805   \n",
       "\n",
       "                                       product_title        product_category  \\\n",
       "0                                          Big Maria  Digital_Ebook_Purchase   \n",
       "1  The Woman Who Wasn't There: The True Story of ...  Digital_Ebook_Purchase   \n",
       "2                            Mary had A Sleepy Sheep  Digital_Ebook_Purchase   \n",
       "3                                         Starstruck  Digital_Ebook_Purchase   \n",
       "4                            The Complete Conan Saga  Digital_Ebook_Purchase   \n",
       "\n",
       "   star_rating  helpful_votes  total_votes vine verified_purchase  \\\n",
       "0            4              0            0    N                 N   \n",
       "1            4              1            2    N                 Y   \n",
       "2            5              0            0    N                 N   \n",
       "3            5              1            1    N                 Y   \n",
       "4            5              1            2    N                 N   \n",
       "\n",
       "               review_headline  \\\n",
       "0                       Quirky   \n",
       "1   The Woman Who Wasn't There   \n",
       "2     This Sleepy Sheep rocks!   \n",
       "3  Steamy and suspenseful!!!!!   \n",
       "4                   Barbarians   \n",
       "\n",
       "                                         review_body review_date  year  \n",
       "0  Elmore Leonard meets the cast of Sierra Madre....  2013-09-09  2013  \n",
       "1  This book was very interesting. It is a true s...  2013-09-09  2013  \n",
       "2  I had the opportunity to review Mary had a Sle...  2013-09-09  2013  \n",
       "3  What a great read!  I really couldn't put this...  2013-09-09  2013  \n",
       "4  Barbarians need love too !  Short stories work...  2013-09-09  2013  "
      ]
     },
     "execution_count": 15,
     "metadata": {},
     "output_type": "execute_result"
    }
   ],
   "source": [
    "ebook_df[\"year\"] = ebook_df[\"review_date\"].map(lambda x: str(x)[:4])\n",
    "ebook_df.head()"
   ]
  },
  {
   "cell_type": "code",
   "execution_count": 16,
   "id": "91191364-d03f-4b9c-807e-e305d80cf624",
   "metadata": {},
   "outputs": [
    {
     "data": {
      "text/plain": [
       "year\n",
       "1999          2\n",
       "2000          6\n",
       "2001          8\n",
       "2002          3\n",
       "2003          2\n",
       "2004         13\n",
       "2005         19\n",
       "2006         35\n",
       "2007        507\n",
       "2008       9607\n",
       "2009      31108\n",
       "2010     102138\n",
       "2011     347217\n",
       "2012    1503588\n",
       "2013    3107440\n",
       "Name: marketplace, dtype: int64"
      ]
     },
     "execution_count": 16,
     "metadata": {},
     "output_type": "execute_result"
    }
   ],
   "source": [
    "ecounts = ebook_df.groupby(\"year\").count()\n",
    "ecounts[\"marketplace\"]"
   ]
  },
  {
   "cell_type": "code",
   "execution_count": 17,
   "id": "cd117935-b0a9-4152-b836-99a76db20e8a",
   "metadata": {},
   "outputs": [
    {
     "data": {
      "text/plain": [
       "marketplace          198\n",
       "customer_id          198\n",
       "review_id            198\n",
       "product_id           198\n",
       "product_parent       198\n",
       "product_title        198\n",
       "product_category     198\n",
       "star_rating          198\n",
       "helpful_votes        198\n",
       "total_votes          198\n",
       "vine                 198\n",
       "verified_purchase    198\n",
       "review_headline      198\n",
       "review_body          198\n",
       "review_date          198\n",
       "year                 198\n",
       "dtype: int64"
      ]
     },
     "execution_count": 17,
     "metadata": {},
     "output_type": "execute_result"
    }
   ],
   "source": [
    "book_df[book_df['review_date'].str.contains('1995')].count()"
   ]
  },
  {
   "cell_type": "code",
   "execution_count": 18,
   "id": "17430062-ecc9-4a00-8fde-6ed4b306c026",
   "metadata": {},
   "outputs": [
    {
     "data": {
      "text/plain": [
       "marketplace          0\n",
       "customer_id          0\n",
       "review_id            0\n",
       "product_id           0\n",
       "product_parent       0\n",
       "product_title        0\n",
       "product_category     0\n",
       "star_rating          0\n",
       "helpful_votes        0\n",
       "total_votes          0\n",
       "vine                 0\n",
       "verified_purchase    0\n",
       "review_headline      0\n",
       "review_body          0\n",
       "review_date          0\n",
       "year                 0\n",
       "dtype: int64"
      ]
     },
     "execution_count": 18,
     "metadata": {},
     "output_type": "execute_result"
    }
   ],
   "source": [
    "book_df[book_df['review_date'].str.contains('2008')].count()"
   ]
  },
  {
   "cell_type": "markdown",
   "id": "cd766722-b3b2-442e-b1c6-0cf457bcc94f",
   "metadata": {},
   "source": [
    "# DVD EDA"
   ]
  },
  {
   "cell_type": "code",
   "execution_count": 4,
   "id": "4c0d42f1-536f-4f3a-b96c-c441b5d7f697",
   "metadata": {},
   "outputs": [],
   "source": [
    "dvd_path = path + 'amazon_dataset/amazon_reviews_us_Video_DVD.tsv'\n",
    "dvd_df = pd.read_csv(dvd_path, delimiter='\\t', quoting = 3)"
   ]
  },
  {
   "cell_type": "code",
   "execution_count": 20,
   "id": "09276512-0064-4511-a925-d05a33c9bccf",
   "metadata": {},
   "outputs": [
    {
     "data": {
      "text/html": [
       "<div>\n",
       "<style scoped>\n",
       "    .dataframe tbody tr th:only-of-type {\n",
       "        vertical-align: middle;\n",
       "    }\n",
       "\n",
       "    .dataframe tbody tr th {\n",
       "        vertical-align: top;\n",
       "    }\n",
       "\n",
       "    .dataframe thead th {\n",
       "        text-align: right;\n",
       "    }\n",
       "</style>\n",
       "<table border=\"1\" class=\"dataframe\">\n",
       "  <thead>\n",
       "    <tr style=\"text-align: right;\">\n",
       "      <th></th>\n",
       "      <th>marketplace</th>\n",
       "      <th>customer_id</th>\n",
       "      <th>review_id</th>\n",
       "      <th>product_id</th>\n",
       "      <th>product_parent</th>\n",
       "      <th>product_title</th>\n",
       "      <th>product_category</th>\n",
       "      <th>star_rating</th>\n",
       "      <th>helpful_votes</th>\n",
       "      <th>total_votes</th>\n",
       "      <th>vine</th>\n",
       "      <th>verified_purchase</th>\n",
       "      <th>review_headline</th>\n",
       "      <th>review_body</th>\n",
       "      <th>review_date</th>\n",
       "    </tr>\n",
       "  </thead>\n",
       "  <tbody>\n",
       "    <tr>\n",
       "      <th>0</th>\n",
       "      <td>US</td>\n",
       "      <td>27288431</td>\n",
       "      <td>R33UPQQUZQEM8</td>\n",
       "      <td>B005T4ND06</td>\n",
       "      <td>400024643</td>\n",
       "      <td>Yoga for Movement Disorders DVD: Rebuilding St...</td>\n",
       "      <td>Video DVD</td>\n",
       "      <td>5</td>\n",
       "      <td>3</td>\n",
       "      <td>3</td>\n",
       "      <td>N</td>\n",
       "      <td>Y</td>\n",
       "      <td>This was a gift for my aunt who has Parkinson'...</td>\n",
       "      <td>This was a gift for my aunt who has Parkinson'...</td>\n",
       "      <td>2015-08-31</td>\n",
       "    </tr>\n",
       "    <tr>\n",
       "      <th>1</th>\n",
       "      <td>US</td>\n",
       "      <td>13722556</td>\n",
       "      <td>R3IKTNQQPD9662</td>\n",
       "      <td>B004EPZ070</td>\n",
       "      <td>685335564</td>\n",
       "      <td>Something Borrowed</td>\n",
       "      <td>Video DVD</td>\n",
       "      <td>5</td>\n",
       "      <td>0</td>\n",
       "      <td>0</td>\n",
       "      <td>N</td>\n",
       "      <td>Y</td>\n",
       "      <td>Five Stars</td>\n",
       "      <td>Teats my heart out.</td>\n",
       "      <td>2015-08-31</td>\n",
       "    </tr>\n",
       "    <tr>\n",
       "      <th>2</th>\n",
       "      <td>US</td>\n",
       "      <td>20381037</td>\n",
       "      <td>R3U27V5QMCP27T</td>\n",
       "      <td>B005S9EKCW</td>\n",
       "      <td>922008804</td>\n",
       "      <td>Les Miserables (2012) [Blu-ray]</td>\n",
       "      <td>Video DVD</td>\n",
       "      <td>5</td>\n",
       "      <td>1</td>\n",
       "      <td>1</td>\n",
       "      <td>N</td>\n",
       "      <td>Y</td>\n",
       "      <td>Great movie!</td>\n",
       "      <td>Great movie.</td>\n",
       "      <td>2015-08-31</td>\n",
       "    </tr>\n",
       "    <tr>\n",
       "      <th>3</th>\n",
       "      <td>US</td>\n",
       "      <td>24852644</td>\n",
       "      <td>R2TOH2QKNK4IOC</td>\n",
       "      <td>B00FC1ZCB4</td>\n",
       "      <td>326560548</td>\n",
       "      <td>Alien Anthology and Prometheus Bundle [Blu-ray]</td>\n",
       "      <td>Video DVD</td>\n",
       "      <td>5</td>\n",
       "      <td>0</td>\n",
       "      <td>1</td>\n",
       "      <td>N</td>\n",
       "      <td>Y</td>\n",
       "      <td>Amazing</td>\n",
       "      <td>My husband was so excited to receive these as ...</td>\n",
       "      <td>2015-08-31</td>\n",
       "    </tr>\n",
       "    <tr>\n",
       "      <th>4</th>\n",
       "      <td>US</td>\n",
       "      <td>15556113</td>\n",
       "      <td>R2XQG5NJ59UFMY</td>\n",
       "      <td>B002ZG98Z0</td>\n",
       "      <td>637495038</td>\n",
       "      <td>Sex and the City 2</td>\n",
       "      <td>Video DVD</td>\n",
       "      <td>5</td>\n",
       "      <td>0</td>\n",
       "      <td>0</td>\n",
       "      <td>N</td>\n",
       "      <td>Y</td>\n",
       "      <td>Five Stars</td>\n",
       "      <td>Love this series.</td>\n",
       "      <td>2015-08-31</td>\n",
       "    </tr>\n",
       "  </tbody>\n",
       "</table>\n",
       "</div>"
      ],
      "text/plain": [
       "  marketplace  customer_id       review_id  product_id  product_parent  \\\n",
       "0          US     27288431   R33UPQQUZQEM8  B005T4ND06       400024643   \n",
       "1          US     13722556  R3IKTNQQPD9662  B004EPZ070       685335564   \n",
       "2          US     20381037  R3U27V5QMCP27T  B005S9EKCW       922008804   \n",
       "3          US     24852644  R2TOH2QKNK4IOC  B00FC1ZCB4       326560548   \n",
       "4          US     15556113  R2XQG5NJ59UFMY  B002ZG98Z0       637495038   \n",
       "\n",
       "                                       product_title product_category  \\\n",
       "0  Yoga for Movement Disorders DVD: Rebuilding St...        Video DVD   \n",
       "1                                 Something Borrowed        Video DVD   \n",
       "2                    Les Miserables (2012) [Blu-ray]        Video DVD   \n",
       "3    Alien Anthology and Prometheus Bundle [Blu-ray]        Video DVD   \n",
       "4                                 Sex and the City 2        Video DVD   \n",
       "\n",
       "   star_rating  helpful_votes  total_votes vine verified_purchase  \\\n",
       "0            5              3            3    N                 Y   \n",
       "1            5              0            0    N                 Y   \n",
       "2            5              1            1    N                 Y   \n",
       "3            5              0            1    N                 Y   \n",
       "4            5              0            0    N                 Y   \n",
       "\n",
       "                                     review_headline  \\\n",
       "0  This was a gift for my aunt who has Parkinson'...   \n",
       "1                                         Five Stars   \n",
       "2                                       Great movie!   \n",
       "3                                            Amazing   \n",
       "4                                         Five Stars   \n",
       "\n",
       "                                         review_body review_date  \n",
       "0  This was a gift for my aunt who has Parkinson'...  2015-08-31  \n",
       "1                                Teats my heart out.  2015-08-31  \n",
       "2                                       Great movie.  2015-08-31  \n",
       "3  My husband was so excited to receive these as ...  2015-08-31  \n",
       "4                                  Love this series.  2015-08-31  "
      ]
     },
     "execution_count": 20,
     "metadata": {},
     "output_type": "execute_result"
    }
   ],
   "source": [
    "dvd_df.head()"
   ]
  },
  {
   "cell_type": "code",
   "execution_count": 21,
   "id": "5d9e15c1-9e9c-4306-846e-0d7f0f052710",
   "metadata": {},
   "outputs": [
    {
     "data": {
      "text/html": [
       "<div>\n",
       "<style scoped>\n",
       "    .dataframe tbody tr th:only-of-type {\n",
       "        vertical-align: middle;\n",
       "    }\n",
       "\n",
       "    .dataframe tbody tr th {\n",
       "        vertical-align: top;\n",
       "    }\n",
       "\n",
       "    .dataframe thead th {\n",
       "        text-align: right;\n",
       "    }\n",
       "</style>\n",
       "<table border=\"1\" class=\"dataframe\">\n",
       "  <thead>\n",
       "    <tr style=\"text-align: right;\">\n",
       "      <th></th>\n",
       "      <th>marketplace</th>\n",
       "      <th>customer_id</th>\n",
       "      <th>review_id</th>\n",
       "      <th>product_id</th>\n",
       "      <th>product_parent</th>\n",
       "      <th>product_title</th>\n",
       "      <th>product_category</th>\n",
       "      <th>star_rating</th>\n",
       "      <th>helpful_votes</th>\n",
       "      <th>total_votes</th>\n",
       "      <th>vine</th>\n",
       "      <th>verified_purchase</th>\n",
       "      <th>review_headline</th>\n",
       "      <th>review_body</th>\n",
       "      <th>review_date</th>\n",
       "      <th>year</th>\n",
       "    </tr>\n",
       "  </thead>\n",
       "  <tbody>\n",
       "    <tr>\n",
       "      <th>0</th>\n",
       "      <td>US</td>\n",
       "      <td>27288431</td>\n",
       "      <td>R33UPQQUZQEM8</td>\n",
       "      <td>B005T4ND06</td>\n",
       "      <td>400024643</td>\n",
       "      <td>Yoga for Movement Disorders DVD: Rebuilding St...</td>\n",
       "      <td>Video DVD</td>\n",
       "      <td>5</td>\n",
       "      <td>3</td>\n",
       "      <td>3</td>\n",
       "      <td>N</td>\n",
       "      <td>Y</td>\n",
       "      <td>This was a gift for my aunt who has Parkinson'...</td>\n",
       "      <td>This was a gift for my aunt who has Parkinson'...</td>\n",
       "      <td>2015-08-31</td>\n",
       "      <td>2015</td>\n",
       "    </tr>\n",
       "    <tr>\n",
       "      <th>1</th>\n",
       "      <td>US</td>\n",
       "      <td>13722556</td>\n",
       "      <td>R3IKTNQQPD9662</td>\n",
       "      <td>B004EPZ070</td>\n",
       "      <td>685335564</td>\n",
       "      <td>Something Borrowed</td>\n",
       "      <td>Video DVD</td>\n",
       "      <td>5</td>\n",
       "      <td>0</td>\n",
       "      <td>0</td>\n",
       "      <td>N</td>\n",
       "      <td>Y</td>\n",
       "      <td>Five Stars</td>\n",
       "      <td>Teats my heart out.</td>\n",
       "      <td>2015-08-31</td>\n",
       "      <td>2015</td>\n",
       "    </tr>\n",
       "    <tr>\n",
       "      <th>2</th>\n",
       "      <td>US</td>\n",
       "      <td>20381037</td>\n",
       "      <td>R3U27V5QMCP27T</td>\n",
       "      <td>B005S9EKCW</td>\n",
       "      <td>922008804</td>\n",
       "      <td>Les Miserables (2012) [Blu-ray]</td>\n",
       "      <td>Video DVD</td>\n",
       "      <td>5</td>\n",
       "      <td>1</td>\n",
       "      <td>1</td>\n",
       "      <td>N</td>\n",
       "      <td>Y</td>\n",
       "      <td>Great movie!</td>\n",
       "      <td>Great movie.</td>\n",
       "      <td>2015-08-31</td>\n",
       "      <td>2015</td>\n",
       "    </tr>\n",
       "    <tr>\n",
       "      <th>3</th>\n",
       "      <td>US</td>\n",
       "      <td>24852644</td>\n",
       "      <td>R2TOH2QKNK4IOC</td>\n",
       "      <td>B00FC1ZCB4</td>\n",
       "      <td>326560548</td>\n",
       "      <td>Alien Anthology and Prometheus Bundle [Blu-ray]</td>\n",
       "      <td>Video DVD</td>\n",
       "      <td>5</td>\n",
       "      <td>0</td>\n",
       "      <td>1</td>\n",
       "      <td>N</td>\n",
       "      <td>Y</td>\n",
       "      <td>Amazing</td>\n",
       "      <td>My husband was so excited to receive these as ...</td>\n",
       "      <td>2015-08-31</td>\n",
       "      <td>2015</td>\n",
       "    </tr>\n",
       "    <tr>\n",
       "      <th>4</th>\n",
       "      <td>US</td>\n",
       "      <td>15556113</td>\n",
       "      <td>R2XQG5NJ59UFMY</td>\n",
       "      <td>B002ZG98Z0</td>\n",
       "      <td>637495038</td>\n",
       "      <td>Sex and the City 2</td>\n",
       "      <td>Video DVD</td>\n",
       "      <td>5</td>\n",
       "      <td>0</td>\n",
       "      <td>0</td>\n",
       "      <td>N</td>\n",
       "      <td>Y</td>\n",
       "      <td>Five Stars</td>\n",
       "      <td>Love this series.</td>\n",
       "      <td>2015-08-31</td>\n",
       "      <td>2015</td>\n",
       "    </tr>\n",
       "  </tbody>\n",
       "</table>\n",
       "</div>"
      ],
      "text/plain": [
       "  marketplace  customer_id       review_id  product_id  product_parent  \\\n",
       "0          US     27288431   R33UPQQUZQEM8  B005T4ND06       400024643   \n",
       "1          US     13722556  R3IKTNQQPD9662  B004EPZ070       685335564   \n",
       "2          US     20381037  R3U27V5QMCP27T  B005S9EKCW       922008804   \n",
       "3          US     24852644  R2TOH2QKNK4IOC  B00FC1ZCB4       326560548   \n",
       "4          US     15556113  R2XQG5NJ59UFMY  B002ZG98Z0       637495038   \n",
       "\n",
       "                                       product_title product_category  \\\n",
       "0  Yoga for Movement Disorders DVD: Rebuilding St...        Video DVD   \n",
       "1                                 Something Borrowed        Video DVD   \n",
       "2                    Les Miserables (2012) [Blu-ray]        Video DVD   \n",
       "3    Alien Anthology and Prometheus Bundle [Blu-ray]        Video DVD   \n",
       "4                                 Sex and the City 2        Video DVD   \n",
       "\n",
       "   star_rating  helpful_votes  total_votes vine verified_purchase  \\\n",
       "0            5              3            3    N                 Y   \n",
       "1            5              0            0    N                 Y   \n",
       "2            5              1            1    N                 Y   \n",
       "3            5              0            1    N                 Y   \n",
       "4            5              0            0    N                 Y   \n",
       "\n",
       "                                     review_headline  \\\n",
       "0  This was a gift for my aunt who has Parkinson'...   \n",
       "1                                         Five Stars   \n",
       "2                                       Great movie!   \n",
       "3                                            Amazing   \n",
       "4                                         Five Stars   \n",
       "\n",
       "                                         review_body review_date  year  \n",
       "0  This was a gift for my aunt who has Parkinson'...  2015-08-31  2015  \n",
       "1                                Teats my heart out.  2015-08-31  2015  \n",
       "2                                       Great movie.  2015-08-31  2015  \n",
       "3  My husband was so excited to receive these as ...  2015-08-31  2015  \n",
       "4                                  Love this series.  2015-08-31  2015  "
      ]
     },
     "execution_count": 21,
     "metadata": {},
     "output_type": "execute_result"
    }
   ],
   "source": [
    "dvd_df[\"year\"] = dvd_df[\"review_date\"].map(lambda x: str(x)[:4])\n",
    "dvd_df.head()"
   ]
  },
  {
   "cell_type": "code",
   "execution_count": 22,
   "id": "6e326436-152d-4786-ab8f-15be111116b8",
   "metadata": {},
   "outputs": [
    {
     "data": {
      "text/plain": [
       "year\n",
       "1996          3\n",
       "1997          8\n",
       "1998       1252\n",
       "1999      15408\n",
       "2000      46292\n",
       "2001      66119\n",
       "2002      92999\n",
       "2003     115343\n",
       "2004     146251\n",
       "2005     170623\n",
       "2006     178497\n",
       "2007     242103\n",
       "2008     237422\n",
       "2009     253676\n",
       "2010     250219\n",
       "2011     270317\n",
       "2012     366843\n",
       "2013     793401\n",
       "2014    1006762\n",
       "2015     815602\n",
       "Name: marketplace, dtype: int64"
      ]
     },
     "execution_count": 22,
     "metadata": {},
     "output_type": "execute_result"
    }
   ],
   "source": [
    "dvd_counts = dvd_df.groupby(\"year\").count()\n",
    "dvd_counts[\"marketplace\"]"
   ]
  },
  {
   "cell_type": "markdown",
   "id": "44c8cda6-54cb-4c15-8a59-79f17144aa69",
   "metadata": {},
   "source": [
    "# Video Download EDA"
   ]
  },
  {
   "cell_type": "code",
   "execution_count": 5,
   "id": "30b599a5-648c-4409-b41b-e1b1daecd4af",
   "metadata": {},
   "outputs": [
    {
     "data": {
      "text/html": [
       "<div>\n",
       "<style scoped>\n",
       "    .dataframe tbody tr th:only-of-type {\n",
       "        vertical-align: middle;\n",
       "    }\n",
       "\n",
       "    .dataframe tbody tr th {\n",
       "        vertical-align: top;\n",
       "    }\n",
       "\n",
       "    .dataframe thead th {\n",
       "        text-align: right;\n",
       "    }\n",
       "</style>\n",
       "<table border=\"1\" class=\"dataframe\">\n",
       "  <thead>\n",
       "    <tr style=\"text-align: right;\">\n",
       "      <th></th>\n",
       "      <th>marketplace</th>\n",
       "      <th>customer_id</th>\n",
       "      <th>review_id</th>\n",
       "      <th>product_id</th>\n",
       "      <th>product_parent</th>\n",
       "      <th>product_title</th>\n",
       "      <th>product_category</th>\n",
       "      <th>star_rating</th>\n",
       "      <th>helpful_votes</th>\n",
       "      <th>total_votes</th>\n",
       "      <th>vine</th>\n",
       "      <th>verified_purchase</th>\n",
       "      <th>review_headline</th>\n",
       "      <th>review_body</th>\n",
       "      <th>review_date</th>\n",
       "    </tr>\n",
       "  </thead>\n",
       "  <tbody>\n",
       "    <tr>\n",
       "      <th>0</th>\n",
       "      <td>US</td>\n",
       "      <td>12190288</td>\n",
       "      <td>R3FU16928EP5TC</td>\n",
       "      <td>B00AYB1482</td>\n",
       "      <td>668895143</td>\n",
       "      <td>Enlightened: Season 1</td>\n",
       "      <td>Digital_Video_Download</td>\n",
       "      <td>5</td>\n",
       "      <td>0</td>\n",
       "      <td>0</td>\n",
       "      <td>N</td>\n",
       "      <td>Y</td>\n",
       "      <td>I loved it and I wish there was a season 3</td>\n",
       "      <td>I loved it and I wish there was a season 3... ...</td>\n",
       "      <td>2015-08-31</td>\n",
       "    </tr>\n",
       "    <tr>\n",
       "      <th>1</th>\n",
       "      <td>US</td>\n",
       "      <td>30549954</td>\n",
       "      <td>R1IZHHS1MH3AQ4</td>\n",
       "      <td>B00KQD28OM</td>\n",
       "      <td>246219280</td>\n",
       "      <td>Vicious</td>\n",
       "      <td>Digital_Video_Download</td>\n",
       "      <td>5</td>\n",
       "      <td>0</td>\n",
       "      <td>0</td>\n",
       "      <td>N</td>\n",
       "      <td>Y</td>\n",
       "      <td>As always it seems that the best shows come fr...</td>\n",
       "      <td>As always it seems that the best shows come fr...</td>\n",
       "      <td>2015-08-31</td>\n",
       "    </tr>\n",
       "    <tr>\n",
       "      <th>2</th>\n",
       "      <td>US</td>\n",
       "      <td>52895410</td>\n",
       "      <td>R52R85WC6TIAH</td>\n",
       "      <td>B01489L5LQ</td>\n",
       "      <td>534732318</td>\n",
       "      <td>After Words</td>\n",
       "      <td>Digital_Video_Download</td>\n",
       "      <td>4</td>\n",
       "      <td>17</td>\n",
       "      <td>18</td>\n",
       "      <td>N</td>\n",
       "      <td>Y</td>\n",
       "      <td>Charming movie</td>\n",
       "      <td>This movie isn't perfect, but it gets a lot of...</td>\n",
       "      <td>2015-08-31</td>\n",
       "    </tr>\n",
       "    <tr>\n",
       "      <th>3</th>\n",
       "      <td>US</td>\n",
       "      <td>27072354</td>\n",
       "      <td>R7HOOYTVIB0DS</td>\n",
       "      <td>B008LOVIIK</td>\n",
       "      <td>239012694</td>\n",
       "      <td>Masterpiece: Inspector Lewis Season 5</td>\n",
       "      <td>Digital_Video_Download</td>\n",
       "      <td>5</td>\n",
       "      <td>0</td>\n",
       "      <td>0</td>\n",
       "      <td>N</td>\n",
       "      <td>Y</td>\n",
       "      <td>Five Stars</td>\n",
       "      <td>excellant this is what tv should be</td>\n",
       "      <td>2015-08-31</td>\n",
       "    </tr>\n",
       "    <tr>\n",
       "      <th>4</th>\n",
       "      <td>US</td>\n",
       "      <td>26939022</td>\n",
       "      <td>R1XQ2N5CDOZGNX</td>\n",
       "      <td>B0094LZMT0</td>\n",
       "      <td>535858974</td>\n",
       "      <td>On The Waterfront</td>\n",
       "      <td>Digital_Video_Download</td>\n",
       "      <td>5</td>\n",
       "      <td>0</td>\n",
       "      <td>0</td>\n",
       "      <td>N</td>\n",
       "      <td>Y</td>\n",
       "      <td>Brilliant film from beginning to end</td>\n",
       "      <td>Brilliant film from beginning to end. All of t...</td>\n",
       "      <td>2015-08-31</td>\n",
       "    </tr>\n",
       "  </tbody>\n",
       "</table>\n",
       "</div>"
      ],
      "text/plain": [
       "  marketplace  customer_id       review_id  product_id  product_parent  \\\n",
       "0          US     12190288  R3FU16928EP5TC  B00AYB1482       668895143   \n",
       "1          US     30549954  R1IZHHS1MH3AQ4  B00KQD28OM       246219280   \n",
       "2          US     52895410   R52R85WC6TIAH  B01489L5LQ       534732318   \n",
       "3          US     27072354   R7HOOYTVIB0DS  B008LOVIIK       239012694   \n",
       "4          US     26939022  R1XQ2N5CDOZGNX  B0094LZMT0       535858974   \n",
       "\n",
       "                           product_title        product_category  star_rating  \\\n",
       "0                  Enlightened: Season 1  Digital_Video_Download            5   \n",
       "1                                Vicious  Digital_Video_Download            5   \n",
       "2                            After Words  Digital_Video_Download            4   \n",
       "3  Masterpiece: Inspector Lewis Season 5  Digital_Video_Download            5   \n",
       "4                      On The Waterfront  Digital_Video_Download            5   \n",
       "\n",
       "   helpful_votes  total_votes vine verified_purchase  \\\n",
       "0              0            0    N                 Y   \n",
       "1              0            0    N                 Y   \n",
       "2             17           18    N                 Y   \n",
       "3              0            0    N                 Y   \n",
       "4              0            0    N                 Y   \n",
       "\n",
       "                                     review_headline  \\\n",
       "0         I loved it and I wish there was a season 3   \n",
       "1  As always it seems that the best shows come fr...   \n",
       "2                                     Charming movie   \n",
       "3                                         Five Stars   \n",
       "4               Brilliant film from beginning to end   \n",
       "\n",
       "                                         review_body review_date  \n",
       "0  I loved it and I wish there was a season 3... ...  2015-08-31  \n",
       "1  As always it seems that the best shows come fr...  2015-08-31  \n",
       "2  This movie isn't perfect, but it gets a lot of...  2015-08-31  \n",
       "3                excellant this is what tv should be  2015-08-31  \n",
       "4  Brilliant film from beginning to end. All of t...  2015-08-31  "
      ]
     },
     "execution_count": 5,
     "metadata": {},
     "output_type": "execute_result"
    }
   ],
   "source": [
    "video_path = path + 'amazon_dataset/amazon_reviews_us_Digital_Video.tsv'\n",
    "video_df = pd.read_csv(video_path, delimiter='\\t', quoting = 3)\n",
    "video_df.head()"
   ]
  },
  {
   "cell_type": "code",
   "execution_count": 24,
   "id": "e776a0c7-e6fd-4b29-a5e1-845c08951eff",
   "metadata": {},
   "outputs": [
    {
     "data": {
      "text/plain": [
       "year\n",
       "2000          1\n",
       "2001          1\n",
       "2002          5\n",
       "2003          4\n",
       "2004          6\n",
       "2005         11\n",
       "2006        185\n",
       "2007       2597\n",
       "2008       3083\n",
       "2009       3262\n",
       "2010       6091\n",
       "2011      20896\n",
       "2012     142478\n",
       "2013     722482\n",
       "2014    1562524\n",
       "2015    1593521\n",
       "Name: marketplace, dtype: int64"
      ]
     },
     "execution_count": 24,
     "metadata": {},
     "output_type": "execute_result"
    }
   ],
   "source": [
    "video_df[\"year\"] = video_df[\"review_date\"].map(lambda x: str(x)[:4])\n",
    "video_counts = video_df.groupby(\"year\").count()\n",
    "video_counts[\"marketplace\"]"
   ]
  },
  {
   "cell_type": "code",
   "execution_count": 25,
   "id": "915e8032-8a13-4618-bcaa-d16daa7519af",
   "metadata": {},
   "outputs": [],
   "source": [
    "# will need to check how many n/a's and nulls there are since there seems to be a lot according to Kaggle"
   ]
  },
  {
   "cell_type": "markdown",
   "id": "d2c69e65-8904-4e2e-b89c-fea82f9fdcd8",
   "metadata": {},
   "source": [
    "# General Video (seems to be VHS lol?)"
   ]
  },
  {
   "cell_type": "code",
   "execution_count": 26,
   "id": "f8dca863-11a5-400d-b78b-ca94c14fedd9",
   "metadata": {},
   "outputs": [
    {
     "data": {
      "text/html": [
       "<div>\n",
       "<style scoped>\n",
       "    .dataframe tbody tr th:only-of-type {\n",
       "        vertical-align: middle;\n",
       "    }\n",
       "\n",
       "    .dataframe tbody tr th {\n",
       "        vertical-align: top;\n",
       "    }\n",
       "\n",
       "    .dataframe thead th {\n",
       "        text-align: right;\n",
       "    }\n",
       "</style>\n",
       "<table border=\"1\" class=\"dataframe\">\n",
       "  <thead>\n",
       "    <tr style=\"text-align: right;\">\n",
       "      <th></th>\n",
       "      <th>marketplace</th>\n",
       "      <th>customer_id</th>\n",
       "      <th>review_id</th>\n",
       "      <th>product_id</th>\n",
       "      <th>product_parent</th>\n",
       "      <th>product_title</th>\n",
       "      <th>product_category</th>\n",
       "      <th>star_rating</th>\n",
       "      <th>helpful_votes</th>\n",
       "      <th>total_votes</th>\n",
       "      <th>vine</th>\n",
       "      <th>verified_purchase</th>\n",
       "      <th>review_headline</th>\n",
       "      <th>review_body</th>\n",
       "      <th>review_date</th>\n",
       "    </tr>\n",
       "  </thead>\n",
       "  <tbody>\n",
       "    <tr>\n",
       "      <th>0</th>\n",
       "      <td>US</td>\n",
       "      <td>49033728</td>\n",
       "      <td>R1P1G5KZ05H6RD</td>\n",
       "      <td>6302503213</td>\n",
       "      <td>748506413</td>\n",
       "      <td>The Night They Saved Christmas [VHS]</td>\n",
       "      <td>Video</td>\n",
       "      <td>5</td>\n",
       "      <td>0</td>\n",
       "      <td>0</td>\n",
       "      <td>N</td>\n",
       "      <td>Y</td>\n",
       "      <td>Very satisfied!!</td>\n",
       "      <td>Fast shipping. Pleasure to deal with. Would re...</td>\n",
       "      <td>2015-08-31</td>\n",
       "    </tr>\n",
       "    <tr>\n",
       "      <th>1</th>\n",
       "      <td>US</td>\n",
       "      <td>17857748</td>\n",
       "      <td>R106N066IUN8ZV</td>\n",
       "      <td>B000059PET</td>\n",
       "      <td>478710180</td>\n",
       "      <td>Hamlet / Kline, New York Shakespeare Festival ...</td>\n",
       "      <td>Video</td>\n",
       "      <td>5</td>\n",
       "      <td>0</td>\n",
       "      <td>0</td>\n",
       "      <td>N</td>\n",
       "      <td>Y</td>\n",
       "      <td>The most talented actor ever!</td>\n",
       "      <td>Kevin Kline is the most versatile, multi-talen...</td>\n",
       "      <td>2015-08-31</td>\n",
       "    </tr>\n",
       "    <tr>\n",
       "      <th>2</th>\n",
       "      <td>US</td>\n",
       "      <td>25551507</td>\n",
       "      <td>R7WTAA1S5O7D9</td>\n",
       "      <td>0788812807</td>\n",
       "      <td>981002815</td>\n",
       "      <td>Nascar Dual Powered Calculator (Solar &amp; Batter...</td>\n",
       "      <td>Video</td>\n",
       "      <td>4</td>\n",
       "      <td>0</td>\n",
       "      <td>0</td>\n",
       "      <td>N</td>\n",
       "      <td>Y</td>\n",
       "      <td>Four Stars</td>\n",
       "      <td>great movie</td>\n",
       "      <td>2015-08-31</td>\n",
       "    </tr>\n",
       "    <tr>\n",
       "      <th>3</th>\n",
       "      <td>US</td>\n",
       "      <td>21025041</td>\n",
       "      <td>R32HFMVWLYOYJK</td>\n",
       "      <td>6302509939</td>\n",
       "      <td>333219811</td>\n",
       "      <td>The Man From U.N.C.L.E, Volume 19: The Brain K...</td>\n",
       "      <td>Video</td>\n",
       "      <td>5</td>\n",
       "      <td>0</td>\n",
       "      <td>0</td>\n",
       "      <td>N</td>\n",
       "      <td>Y</td>\n",
       "      <td>Five Stars</td>\n",
       "      <td>i love the martin landau episode</td>\n",
       "      <td>2015-08-31</td>\n",
       "    </tr>\n",
       "    <tr>\n",
       "      <th>4</th>\n",
       "      <td>US</td>\n",
       "      <td>40943563</td>\n",
       "      <td>RWT3H6HBVAL6G</td>\n",
       "      <td>B00JENS2BI</td>\n",
       "      <td>538101194</td>\n",
       "      <td>Playboy Video Party Jokes [VHS]</td>\n",
       "      <td>Video</td>\n",
       "      <td>3</td>\n",
       "      <td>0</td>\n",
       "      <td>0</td>\n",
       "      <td>N</td>\n",
       "      <td>N</td>\n",
       "      <td>HOT women, dumb jokes</td>\n",
       "      <td>Y'know what this reminded me of? Those sketch ...</td>\n",
       "      <td>2015-08-31</td>\n",
       "    </tr>\n",
       "  </tbody>\n",
       "</table>\n",
       "</div>"
      ],
      "text/plain": [
       "  marketplace  customer_id       review_id  product_id  product_parent  \\\n",
       "0          US     49033728  R1P1G5KZ05H6RD  6302503213       748506413   \n",
       "1          US     17857748  R106N066IUN8ZV  B000059PET       478710180   \n",
       "2          US     25551507   R7WTAA1S5O7D9  0788812807       981002815   \n",
       "3          US     21025041  R32HFMVWLYOYJK  6302509939       333219811   \n",
       "4          US     40943563   RWT3H6HBVAL6G  B00JENS2BI       538101194   \n",
       "\n",
       "                                       product_title product_category  \\\n",
       "0               The Night They Saved Christmas [VHS]            Video   \n",
       "1  Hamlet / Kline, New York Shakespeare Festival ...            Video   \n",
       "2  Nascar Dual Powered Calculator (Solar & Batter...            Video   \n",
       "3  The Man From U.N.C.L.E, Volume 19: The Brain K...            Video   \n",
       "4                    Playboy Video Party Jokes [VHS]            Video   \n",
       "\n",
       "   star_rating  helpful_votes  total_votes vine verified_purchase  \\\n",
       "0            5              0            0    N                 Y   \n",
       "1            5              0            0    N                 Y   \n",
       "2            4              0            0    N                 Y   \n",
       "3            5              0            0    N                 Y   \n",
       "4            3              0            0    N                 N   \n",
       "\n",
       "                 review_headline  \\\n",
       "0               Very satisfied!!   \n",
       "1  The most talented actor ever!   \n",
       "2                     Four Stars   \n",
       "3                     Five Stars   \n",
       "4          HOT women, dumb jokes   \n",
       "\n",
       "                                         review_body review_date  \n",
       "0  Fast shipping. Pleasure to deal with. Would re...  2015-08-31  \n",
       "1  Kevin Kline is the most versatile, multi-talen...  2015-08-31  \n",
       "2                                        great movie  2015-08-31  \n",
       "3                   i love the martin landau episode  2015-08-31  \n",
       "4  Y'know what this reminded me of? Those sketch ...  2015-08-31  "
      ]
     },
     "execution_count": 26,
     "metadata": {},
     "output_type": "execute_result"
    }
   ],
   "source": [
    "vid_gen_path = path + 'amazon_dataset/amazon_reviews_us_Video_general.tsv'\n",
    "vidgen_df = pd.read_csv(vid_gen_path, delimiter='\\t', quoting = 3)\n",
    "vidgen_df.head()"
   ]
  },
  {
   "cell_type": "code",
   "execution_count": 27,
   "id": "04fadaab-6fe2-4906-9b25-d38c674e2280",
   "metadata": {},
   "outputs": [
    {
     "data": {
      "text/plain": [
       "year\n",
       "1995        2\n",
       "1996       12\n",
       "1997      112\n",
       "1998     5222\n",
       "1999    43954\n",
       "2000    70826\n",
       "2001    52275\n",
       "2002    42718\n",
       "2003    29695\n",
       "2004    19654\n",
       "2005    14313\n",
       "2006     9142\n",
       "2007     8073\n",
       "2008     6759\n",
       "2009     8183\n",
       "2010     8173\n",
       "2011     8234\n",
       "2012     8672\n",
       "2013    15520\n",
       "2014    17283\n",
       "2015    11782\n",
       "Name: marketplace, dtype: int64"
      ]
     },
     "execution_count": 27,
     "metadata": {},
     "output_type": "execute_result"
    }
   ],
   "source": [
    "vidgen_df[\"year\"] = vidgen_df[\"review_date\"].map(lambda x: str(x)[:4])\n",
    "vidgen_counts = vidgen_df.groupby(\"year\").count()\n",
    "vidgen_counts[\"marketplace\"]"
   ]
  },
  {
   "cell_type": "code",
   "execution_count": 28,
   "id": "39877108-e6c8-4eeb-88ef-3a81b8ed15b7",
   "metadata": {},
   "outputs": [],
   "source": [
    "# too small to use...sadbois"
   ]
  },
  {
   "cell_type": "markdown",
   "id": "d72b5012-0dda-4948-bf88-0a802918c631",
   "metadata": {},
   "source": [
    "# Check for missing vals and if there are common products between files"
   ]
  },
  {
   "cell_type": "markdown",
   "id": "e3828b1f-0c93-4dd4-bf1b-518e726755f7",
   "metadata": {},
   "source": [
    "### Video Downloads"
   ]
  },
  {
   "cell_type": "code",
   "execution_count": 29,
   "id": "4dd8633c-efc0-4d93-9e8f-c840c060466e",
   "metadata": {},
   "outputs": [
    {
     "data": {
      "text/html": [
       "<div>\n",
       "<style scoped>\n",
       "    .dataframe tbody tr th:only-of-type {\n",
       "        vertical-align: middle;\n",
       "    }\n",
       "\n",
       "    .dataframe tbody tr th {\n",
       "        vertical-align: top;\n",
       "    }\n",
       "\n",
       "    .dataframe thead th {\n",
       "        text-align: right;\n",
       "    }\n",
       "</style>\n",
       "<table border=\"1\" class=\"dataframe\">\n",
       "  <thead>\n",
       "    <tr style=\"text-align: right;\">\n",
       "      <th></th>\n",
       "      <th>marketplace</th>\n",
       "      <th>customer_id</th>\n",
       "      <th>review_id</th>\n",
       "      <th>product_id</th>\n",
       "      <th>product_parent</th>\n",
       "      <th>product_title</th>\n",
       "      <th>product_category</th>\n",
       "      <th>star_rating</th>\n",
       "      <th>helpful_votes</th>\n",
       "      <th>total_votes</th>\n",
       "      <th>vine</th>\n",
       "      <th>verified_purchase</th>\n",
       "      <th>review_headline</th>\n",
       "      <th>review_body</th>\n",
       "      <th>review_date</th>\n",
       "      <th>year</th>\n",
       "    </tr>\n",
       "  </thead>\n",
       "  <tbody>\n",
       "    <tr>\n",
       "      <th>0</th>\n",
       "      <td>US</td>\n",
       "      <td>12190288</td>\n",
       "      <td>R3FU16928EP5TC</td>\n",
       "      <td>B00AYB1482</td>\n",
       "      <td>668895143</td>\n",
       "      <td>Enlightened: Season 1</td>\n",
       "      <td>Digital_Video_Download</td>\n",
       "      <td>5</td>\n",
       "      <td>0</td>\n",
       "      <td>0</td>\n",
       "      <td>N</td>\n",
       "      <td>Y</td>\n",
       "      <td>I loved it and I wish there was a season 3</td>\n",
       "      <td>I loved it and I wish there was a season 3... ...</td>\n",
       "      <td>2015-08-31</td>\n",
       "      <td>2015</td>\n",
       "    </tr>\n",
       "    <tr>\n",
       "      <th>1</th>\n",
       "      <td>US</td>\n",
       "      <td>30549954</td>\n",
       "      <td>R1IZHHS1MH3AQ4</td>\n",
       "      <td>B00KQD28OM</td>\n",
       "      <td>246219280</td>\n",
       "      <td>Vicious</td>\n",
       "      <td>Digital_Video_Download</td>\n",
       "      <td>5</td>\n",
       "      <td>0</td>\n",
       "      <td>0</td>\n",
       "      <td>N</td>\n",
       "      <td>Y</td>\n",
       "      <td>As always it seems that the best shows come fr...</td>\n",
       "      <td>As always it seems that the best shows come fr...</td>\n",
       "      <td>2015-08-31</td>\n",
       "      <td>2015</td>\n",
       "    </tr>\n",
       "    <tr>\n",
       "      <th>2</th>\n",
       "      <td>US</td>\n",
       "      <td>52895410</td>\n",
       "      <td>R52R85WC6TIAH</td>\n",
       "      <td>B01489L5LQ</td>\n",
       "      <td>534732318</td>\n",
       "      <td>After Words</td>\n",
       "      <td>Digital_Video_Download</td>\n",
       "      <td>4</td>\n",
       "      <td>17</td>\n",
       "      <td>18</td>\n",
       "      <td>N</td>\n",
       "      <td>Y</td>\n",
       "      <td>Charming movie</td>\n",
       "      <td>This movie isn't perfect, but it gets a lot of...</td>\n",
       "      <td>2015-08-31</td>\n",
       "      <td>2015</td>\n",
       "    </tr>\n",
       "    <tr>\n",
       "      <th>3</th>\n",
       "      <td>US</td>\n",
       "      <td>27072354</td>\n",
       "      <td>R7HOOYTVIB0DS</td>\n",
       "      <td>B008LOVIIK</td>\n",
       "      <td>239012694</td>\n",
       "      <td>Masterpiece: Inspector Lewis Season 5</td>\n",
       "      <td>Digital_Video_Download</td>\n",
       "      <td>5</td>\n",
       "      <td>0</td>\n",
       "      <td>0</td>\n",
       "      <td>N</td>\n",
       "      <td>Y</td>\n",
       "      <td>Five Stars</td>\n",
       "      <td>excellant this is what tv should be</td>\n",
       "      <td>2015-08-31</td>\n",
       "      <td>2015</td>\n",
       "    </tr>\n",
       "    <tr>\n",
       "      <th>4</th>\n",
       "      <td>US</td>\n",
       "      <td>26939022</td>\n",
       "      <td>R1XQ2N5CDOZGNX</td>\n",
       "      <td>B0094LZMT0</td>\n",
       "      <td>535858974</td>\n",
       "      <td>On The Waterfront</td>\n",
       "      <td>Digital_Video_Download</td>\n",
       "      <td>5</td>\n",
       "      <td>0</td>\n",
       "      <td>0</td>\n",
       "      <td>N</td>\n",
       "      <td>Y</td>\n",
       "      <td>Brilliant film from beginning to end</td>\n",
       "      <td>Brilliant film from beginning to end. All of t...</td>\n",
       "      <td>2015-08-31</td>\n",
       "      <td>2015</td>\n",
       "    </tr>\n",
       "  </tbody>\n",
       "</table>\n",
       "</div>"
      ],
      "text/plain": [
       "  marketplace  customer_id       review_id  product_id  product_parent  \\\n",
       "0          US     12190288  R3FU16928EP5TC  B00AYB1482       668895143   \n",
       "1          US     30549954  R1IZHHS1MH3AQ4  B00KQD28OM       246219280   \n",
       "2          US     52895410   R52R85WC6TIAH  B01489L5LQ       534732318   \n",
       "3          US     27072354   R7HOOYTVIB0DS  B008LOVIIK       239012694   \n",
       "4          US     26939022  R1XQ2N5CDOZGNX  B0094LZMT0       535858974   \n",
       "\n",
       "                           product_title        product_category  star_rating  \\\n",
       "0                  Enlightened: Season 1  Digital_Video_Download            5   \n",
       "1                                Vicious  Digital_Video_Download            5   \n",
       "2                            After Words  Digital_Video_Download            4   \n",
       "3  Masterpiece: Inspector Lewis Season 5  Digital_Video_Download            5   \n",
       "4                      On The Waterfront  Digital_Video_Download            5   \n",
       "\n",
       "   helpful_votes  total_votes vine verified_purchase  \\\n",
       "0              0            0    N                 Y   \n",
       "1              0            0    N                 Y   \n",
       "2             17           18    N                 Y   \n",
       "3              0            0    N                 Y   \n",
       "4              0            0    N                 Y   \n",
       "\n",
       "                                     review_headline  \\\n",
       "0         I loved it and I wish there was a season 3   \n",
       "1  As always it seems that the best shows come fr...   \n",
       "2                                     Charming movie   \n",
       "3                                         Five Stars   \n",
       "4               Brilliant film from beginning to end   \n",
       "\n",
       "                                         review_body review_date  year  \n",
       "0  I loved it and I wish there was a season 3... ...  2015-08-31  2015  \n",
       "1  As always it seems that the best shows come fr...  2015-08-31  2015  \n",
       "2  This movie isn't perfect, but it gets a lot of...  2015-08-31  2015  \n",
       "3                excellant this is what tv should be  2015-08-31  2015  \n",
       "4  Brilliant film from beginning to end. All of t...  2015-08-31  2015  "
      ]
     },
     "execution_count": 29,
     "metadata": {},
     "output_type": "execute_result"
    }
   ],
   "source": [
    "video_df.head()"
   ]
  },
  {
   "cell_type": "code",
   "execution_count": 30,
   "id": "e79db259-c39f-49b0-a432-5703a70710d1",
   "metadata": {},
   "outputs": [
    {
     "data": {
      "text/plain": [
       "marketplace          0\n",
       "customer_id          0\n",
       "review_id            0\n",
       "product_id           0\n",
       "product_parent       0\n",
       "product_title        0\n",
       "product_category     0\n",
       "star_rating          0\n",
       "helpful_votes        0\n",
       "total_votes          0\n",
       "vine                 0\n",
       "verified_purchase    0\n",
       "review_headline      0\n",
       "review_body          0\n",
       "review_date          0\n",
       "year                 0\n",
       "dtype: int64"
      ]
     },
     "execution_count": 30,
     "metadata": {},
     "output_type": "execute_result"
    }
   ],
   "source": [
    "video_df[pd.isnull(video_df[\"product_id\"])].count()"
   ]
  },
  {
   "cell_type": "code",
   "execution_count": 31,
   "id": "43e04aa3-6b31-4378-80d8-c627f7871049",
   "metadata": {},
   "outputs": [
    {
     "data": {
      "text/plain": [
       "marketplace          0\n",
       "customer_id          0\n",
       "review_id            0\n",
       "product_id           0\n",
       "product_parent       0\n",
       "product_title        0\n",
       "product_category     0\n",
       "star_rating          0\n",
       "helpful_votes        0\n",
       "total_votes          0\n",
       "vine                 0\n",
       "verified_purchase    0\n",
       "review_headline      0\n",
       "review_body          0\n",
       "review_date          0\n",
       "year                 0\n",
       "dtype: int64"
      ]
     },
     "execution_count": 31,
     "metadata": {},
     "output_type": "execute_result"
    }
   ],
   "source": [
    "video_df[pd.isnull(video_df[\"product_title\"])].count()"
   ]
  },
  {
   "cell_type": "code",
   "execution_count": 32,
   "id": "b36fe8ed-3f2d-415e-b04d-eb66d14a0dbc",
   "metadata": {},
   "outputs": [
    {
     "data": {
      "text/plain": [
       "marketplace          0\n",
       "customer_id          0\n",
       "review_id            0\n",
       "product_id           0\n",
       "product_parent       0\n",
       "product_title        0\n",
       "product_category     0\n",
       "star_rating          0\n",
       "helpful_votes        0\n",
       "total_votes          0\n",
       "vine                 0\n",
       "verified_purchase    0\n",
       "review_headline      0\n",
       "review_body          0\n",
       "review_date          0\n",
       "year                 0\n",
       "dtype: int64"
      ]
     },
     "execution_count": 32,
     "metadata": {},
     "output_type": "execute_result"
    }
   ],
   "source": [
    "video_df[pd.isna(video_df['product_title'])].count()"
   ]
  },
  {
   "cell_type": "code",
   "execution_count": 33,
   "id": "7aeb3a32-e483-44e8-a088-d46dd607af68",
   "metadata": {},
   "outputs": [
    {
     "data": {
      "text/plain": [
       "marketplace          0\n",
       "customer_id          0\n",
       "review_id            0\n",
       "product_id           0\n",
       "product_parent       0\n",
       "product_title        0\n",
       "product_category     0\n",
       "star_rating          0\n",
       "helpful_votes        0\n",
       "total_votes          0\n",
       "vine                 0\n",
       "verified_purchase    0\n",
       "review_headline      0\n",
       "review_body          0\n",
       "review_date          0\n",
       "year                 0\n",
       "dtype: int64"
      ]
     },
     "execution_count": 33,
     "metadata": {},
     "output_type": "execute_result"
    }
   ],
   "source": [
    "video_df[pd.isna(video_df['product_id'])].count()"
   ]
  },
  {
   "cell_type": "code",
   "execution_count": 34,
   "id": "df41ccd7-9e7a-4bb8-96ee-62bec34364d1",
   "metadata": {},
   "outputs": [
    {
     "data": {
      "text/plain": [
       "Int64Index([], dtype='int64')"
      ]
     },
     "execution_count": 34,
     "metadata": {},
     "output_type": "execute_result"
    }
   ],
   "source": [
    "video_df[video_df['product_title'] == ''].index"
   ]
  },
  {
   "cell_type": "code",
   "execution_count": 35,
   "id": "07984f64-da0c-48fb-803d-68413e7dedcd",
   "metadata": {},
   "outputs": [
    {
     "data": {
      "text/plain": [
       "Int64Index([], dtype='int64')"
      ]
     },
     "execution_count": 35,
     "metadata": {},
     "output_type": "execute_result"
    }
   ],
   "source": [
    "video_df[video_df['product_id'] == ''].index"
   ]
  },
  {
   "cell_type": "markdown",
   "id": "07b2b8ce-e468-419b-ba69-abdf6f6c00a4",
   "metadata": {},
   "source": [
    "### DVDs"
   ]
  },
  {
   "cell_type": "code",
   "execution_count": 36,
   "id": "fc7eee22-1fb8-43b7-b1d1-15d3f7c2b7ea",
   "metadata": {},
   "outputs": [
    {
     "data": {
      "text/plain": [
       "marketplace          0\n",
       "customer_id          0\n",
       "review_id            0\n",
       "product_id           0\n",
       "product_parent       0\n",
       "product_title        0\n",
       "product_category     0\n",
       "star_rating          0\n",
       "helpful_votes        0\n",
       "total_votes          0\n",
       "vine                 0\n",
       "verified_purchase    0\n",
       "review_headline      0\n",
       "review_body          0\n",
       "review_date          0\n",
       "year                 0\n",
       "dtype: int64"
      ]
     },
     "execution_count": 36,
     "metadata": {},
     "output_type": "execute_result"
    }
   ],
   "source": [
    "dvd_df[pd.isnull(dvd_df[\"product_id\"])].count()"
   ]
  },
  {
   "cell_type": "code",
   "execution_count": 37,
   "id": "ec326e8f-0f64-43a9-9429-92200c54d3a0",
   "metadata": {},
   "outputs": [
    {
     "data": {
      "text/plain": [
       "marketplace          0\n",
       "customer_id          0\n",
       "review_id            0\n",
       "product_id           0\n",
       "product_parent       0\n",
       "product_title        0\n",
       "product_category     0\n",
       "star_rating          0\n",
       "helpful_votes        0\n",
       "total_votes          0\n",
       "vine                 0\n",
       "verified_purchase    0\n",
       "review_headline      0\n",
       "review_body          0\n",
       "review_date          0\n",
       "year                 0\n",
       "dtype: int64"
      ]
     },
     "execution_count": 37,
     "metadata": {},
     "output_type": "execute_result"
    }
   ],
   "source": [
    "dvd_df[pd.isnull(dvd_df[\"product_title\"])].count()"
   ]
  },
  {
   "cell_type": "code",
   "execution_count": 38,
   "id": "6c57e382-9435-4c11-bdc6-2859137b629c",
   "metadata": {},
   "outputs": [
    {
     "data": {
      "text/plain": [
       "marketplace          0\n",
       "customer_id          0\n",
       "review_id            0\n",
       "product_id           0\n",
       "product_parent       0\n",
       "product_title        0\n",
       "product_category     0\n",
       "star_rating          0\n",
       "helpful_votes        0\n",
       "total_votes          0\n",
       "vine                 0\n",
       "verified_purchase    0\n",
       "review_headline      0\n",
       "review_body          0\n",
       "review_date          0\n",
       "year                 0\n",
       "dtype: int64"
      ]
     },
     "execution_count": 38,
     "metadata": {},
     "output_type": "execute_result"
    }
   ],
   "source": [
    "dvd_df[pd.isna(dvd_df['product_title'])].count()"
   ]
  },
  {
   "cell_type": "code",
   "execution_count": 39,
   "id": "d0624021-3ad1-4d32-9fa0-78815b09e021",
   "metadata": {},
   "outputs": [
    {
     "data": {
      "text/plain": [
       "marketplace          0\n",
       "customer_id          0\n",
       "review_id            0\n",
       "product_id           0\n",
       "product_parent       0\n",
       "product_title        0\n",
       "product_category     0\n",
       "star_rating          0\n",
       "helpful_votes        0\n",
       "total_votes          0\n",
       "vine                 0\n",
       "verified_purchase    0\n",
       "review_headline      0\n",
       "review_body          0\n",
       "review_date          0\n",
       "year                 0\n",
       "dtype: int64"
      ]
     },
     "execution_count": 39,
     "metadata": {},
     "output_type": "execute_result"
    }
   ],
   "source": [
    "dvd_df[pd.isna(dvd_df['product_id'])].count()"
   ]
  },
  {
   "cell_type": "code",
   "execution_count": 40,
   "id": "6a655d94-83fa-4ba6-9efe-2f9ef8feaa9f",
   "metadata": {},
   "outputs": [
    {
     "data": {
      "text/plain": [
       "Int64Index([], dtype='int64')"
      ]
     },
     "execution_count": 40,
     "metadata": {},
     "output_type": "execute_result"
    }
   ],
   "source": [
    "dvd_df[dvd_df['product_title'] == ''].index"
   ]
  },
  {
   "cell_type": "code",
   "execution_count": 41,
   "id": "5d3c76e1-96bf-42a5-85f9-5e0e1d6397c9",
   "metadata": {},
   "outputs": [
    {
     "data": {
      "text/plain": [
       "Int64Index([], dtype='int64')"
      ]
     },
     "execution_count": 41,
     "metadata": {},
     "output_type": "execute_result"
    }
   ],
   "source": [
    "dvd_df[dvd_df['product_id'] == ''].index"
   ]
  },
  {
   "cell_type": "code",
   "execution_count": 42,
   "id": "101b3095-3182-402e-8f5a-f982c0b80436",
   "metadata": {},
   "outputs": [],
   "source": [
    "# why did kagle say that it had a lot of nulls then?????"
   ]
  },
  {
   "cell_type": "markdown",
   "id": "5c2a8a61-e93a-4777-a791-22588e9680d5",
   "metadata": {},
   "source": [
    "### checking for merging is possible for certain products and how effective it is...."
   ]
  },
  {
   "cell_type": "code",
   "execution_count": 43,
   "id": "3f93c674-1537-41ab-83a2-7c5ae795cbbc",
   "metadata": {},
   "outputs": [],
   "source": [
    "full_df = dvd_df.merge(video_df, on='product_id', how='left').dropna()"
   ]
  },
  {
   "cell_type": "code",
   "execution_count": 44,
   "id": "d17f6f18-0103-4c20-b8a4-3a68cf8eb2a4",
   "metadata": {},
   "outputs": [
    {
     "data": {
      "text/plain": [
       "5069140"
      ]
     },
     "execution_count": 44,
     "metadata": {},
     "output_type": "execute_result"
    }
   ],
   "source": [
    "len(dvd_df)"
   ]
  },
  {
   "cell_type": "code",
   "execution_count": 45,
   "id": "651912ca-9958-42c3-8861-839c35660fb2",
   "metadata": {},
   "outputs": [
    {
     "data": {
      "text/plain": [
       "4057147"
      ]
     },
     "execution_count": 45,
     "metadata": {},
     "output_type": "execute_result"
    }
   ],
   "source": [
    "len(video_df)"
   ]
  },
  {
   "cell_type": "code",
   "execution_count": 46,
   "id": "a639b2a7-6200-49a1-814f-313ad1072099",
   "metadata": {},
   "outputs": [
    {
     "data": {
      "text/plain": [
       "0"
      ]
     },
     "execution_count": 46,
     "metadata": {},
     "output_type": "execute_result"
    }
   ],
   "source": [
    "len(full_df)"
   ]
  },
  {
   "cell_type": "code",
   "execution_count": null,
   "id": "44f613a7-ae62-433b-8245-546cbf230d01",
   "metadata": {},
   "outputs": [],
   "source": [
    "#full_df2 = dvd_df.merge(video_df, on='product_title', how='left').dropna()\n",
    "# merging the id isn't possible here and doing it with title leads to the kernel to keep crashing"
   ]
  },
  {
   "cell_type": "markdown",
   "id": "97c871df-4384-45f1-8448-899fd199f215",
   "metadata": {},
   "source": [
    "### now just checking for more nulls in different ways, as well as distributions"
   ]
  },
  {
   "cell_type": "code",
   "execution_count": 6,
   "id": "29196d6e-c646-4c66-a76d-baf198996ada",
   "metadata": {},
   "outputs": [
    {
     "data": {
      "text/html": [
       "<div>\n",
       "<style scoped>\n",
       "    .dataframe tbody tr th:only-of-type {\n",
       "        vertical-align: middle;\n",
       "    }\n",
       "\n",
       "    .dataframe tbody tr th {\n",
       "        vertical-align: top;\n",
       "    }\n",
       "\n",
       "    .dataframe thead th {\n",
       "        text-align: right;\n",
       "    }\n",
       "</style>\n",
       "<table border=\"1\" class=\"dataframe\">\n",
       "  <thead>\n",
       "    <tr style=\"text-align: right;\">\n",
       "      <th></th>\n",
       "      <th>customer_id</th>\n",
       "      <th>product_parent</th>\n",
       "      <th>star_rating</th>\n",
       "      <th>helpful_votes</th>\n",
       "      <th>total_votes</th>\n",
       "    </tr>\n",
       "  </thead>\n",
       "  <tbody>\n",
       "    <tr>\n",
       "      <th>count</th>\n",
       "      <td>5.069140e+06</td>\n",
       "      <td>5.069140e+06</td>\n",
       "      <td>5.069140e+06</td>\n",
       "      <td>5.069140e+06</td>\n",
       "      <td>5.069140e+06</td>\n",
       "    </tr>\n",
       "    <tr>\n",
       "      <th>mean</th>\n",
       "      <td>3.092341e+07</td>\n",
       "      <td>4.998261e+08</td>\n",
       "      <td>4.302017e+00</td>\n",
       "      <td>2.955996e+00</td>\n",
       "      <td>4.550424e+00</td>\n",
       "    </tr>\n",
       "    <tr>\n",
       "      <th>std</th>\n",
       "      <td>1.524528e+07</td>\n",
       "      <td>2.882391e+08</td>\n",
       "      <td>1.180992e+00</td>\n",
       "      <td>1.908182e+01</td>\n",
       "      <td>2.200723e+01</td>\n",
       "    </tr>\n",
       "    <tr>\n",
       "      <th>min</th>\n",
       "      <td>1.000100e+04</td>\n",
       "      <td>1.658000e+03</td>\n",
       "      <td>1.000000e+00</td>\n",
       "      <td>0.000000e+00</td>\n",
       "      <td>0.000000e+00</td>\n",
       "    </tr>\n",
       "    <tr>\n",
       "      <th>25%</th>\n",
       "      <td>1.665468e+07</td>\n",
       "      <td>2.494817e+08</td>\n",
       "      <td>4.000000e+00</td>\n",
       "      <td>0.000000e+00</td>\n",
       "      <td>0.000000e+00</td>\n",
       "    </tr>\n",
       "    <tr>\n",
       "      <th>50%</th>\n",
       "      <td>3.168186e+07</td>\n",
       "      <td>5.021773e+08</td>\n",
       "      <td>5.000000e+00</td>\n",
       "      <td>0.000000e+00</td>\n",
       "      <td>1.000000e+00</td>\n",
       "    </tr>\n",
       "    <tr>\n",
       "      <th>75%</th>\n",
       "      <td>4.521243e+07</td>\n",
       "      <td>7.515801e+08</td>\n",
       "      <td>5.000000e+00</td>\n",
       "      <td>2.000000e+00</td>\n",
       "      <td>4.000000e+00</td>\n",
       "    </tr>\n",
       "    <tr>\n",
       "      <th>max</th>\n",
       "      <td>5.309659e+07</td>\n",
       "      <td>9.999959e+08</td>\n",
       "      <td>5.000000e+00</td>\n",
       "      <td>2.092800e+04</td>\n",
       "      <td>2.298200e+04</td>\n",
       "    </tr>\n",
       "  </tbody>\n",
       "</table>\n",
       "</div>"
      ],
      "text/plain": [
       "        customer_id  product_parent   star_rating  helpful_votes   total_votes\n",
       "count  5.069140e+06    5.069140e+06  5.069140e+06   5.069140e+06  5.069140e+06\n",
       "mean   3.092341e+07    4.998261e+08  4.302017e+00   2.955996e+00  4.550424e+00\n",
       "std    1.524528e+07    2.882391e+08  1.180992e+00   1.908182e+01  2.200723e+01\n",
       "min    1.000100e+04    1.658000e+03  1.000000e+00   0.000000e+00  0.000000e+00\n",
       "25%    1.665468e+07    2.494817e+08  4.000000e+00   0.000000e+00  0.000000e+00\n",
       "50%    3.168186e+07    5.021773e+08  5.000000e+00   0.000000e+00  1.000000e+00\n",
       "75%    4.521243e+07    7.515801e+08  5.000000e+00   2.000000e+00  4.000000e+00\n",
       "max    5.309659e+07    9.999959e+08  5.000000e+00   2.092800e+04  2.298200e+04"
      ]
     },
     "execution_count": 6,
     "metadata": {},
     "output_type": "execute_result"
    }
   ],
   "source": [
    "dvd_df.describe()"
   ]
  },
  {
   "cell_type": "code",
   "execution_count": 7,
   "id": "821c9162-72dd-4d82-b429-0aa45412a857",
   "metadata": {},
   "outputs": [
    {
     "data": {
      "text/html": [
       "<div>\n",
       "<style scoped>\n",
       "    .dataframe tbody tr th:only-of-type {\n",
       "        vertical-align: middle;\n",
       "    }\n",
       "\n",
       "    .dataframe tbody tr th {\n",
       "        vertical-align: top;\n",
       "    }\n",
       "\n",
       "    .dataframe thead th {\n",
       "        text-align: right;\n",
       "    }\n",
       "</style>\n",
       "<table border=\"1\" class=\"dataframe\">\n",
       "  <thead>\n",
       "    <tr style=\"text-align: right;\">\n",
       "      <th></th>\n",
       "      <th>customer_id</th>\n",
       "      <th>product_parent</th>\n",
       "      <th>star_rating</th>\n",
       "      <th>helpful_votes</th>\n",
       "      <th>total_votes</th>\n",
       "    </tr>\n",
       "  </thead>\n",
       "  <tbody>\n",
       "    <tr>\n",
       "      <th>count</th>\n",
       "      <td>4.057147e+06</td>\n",
       "      <td>4.057147e+06</td>\n",
       "      <td>4.057147e+06</td>\n",
       "      <td>4.057147e+06</td>\n",
       "      <td>4.057147e+06</td>\n",
       "    </tr>\n",
       "    <tr>\n",
       "      <th>mean</th>\n",
       "      <td>2.823094e+07</td>\n",
       "      <td>5.044513e+08</td>\n",
       "      <td>4.201208e+00</td>\n",
       "      <td>5.002212e-01</td>\n",
       "      <td>1.075066e+00</td>\n",
       "    </tr>\n",
       "    <tr>\n",
       "      <th>std</th>\n",
       "      <td>1.526968e+07</td>\n",
       "      <td>2.888800e+08</td>\n",
       "      <td>1.223497e+00</td>\n",
       "      <td>4.542439e+00</td>\n",
       "      <td>5.896154e+00</td>\n",
       "    </tr>\n",
       "    <tr>\n",
       "      <th>min</th>\n",
       "      <td>1.001300e+04</td>\n",
       "      <td>8.844000e+03</td>\n",
       "      <td>1.000000e+00</td>\n",
       "      <td>0.000000e+00</td>\n",
       "      <td>0.000000e+00</td>\n",
       "    </tr>\n",
       "    <tr>\n",
       "      <th>25%</th>\n",
       "      <td>1.478047e+07</td>\n",
       "      <td>2.433494e+08</td>\n",
       "      <td>4.000000e+00</td>\n",
       "      <td>0.000000e+00</td>\n",
       "      <td>0.000000e+00</td>\n",
       "    </tr>\n",
       "    <tr>\n",
       "      <th>50%</th>\n",
       "      <td>2.700659e+07</td>\n",
       "      <td>5.176379e+08</td>\n",
       "      <td>5.000000e+00</td>\n",
       "      <td>0.000000e+00</td>\n",
       "      <td>0.000000e+00</td>\n",
       "    </tr>\n",
       "    <tr>\n",
       "      <th>75%</th>\n",
       "      <td>4.260941e+07</td>\n",
       "      <td>7.542402e+08</td>\n",
       "      <td>5.000000e+00</td>\n",
       "      <td>0.000000e+00</td>\n",
       "      <td>1.000000e+00</td>\n",
       "    </tr>\n",
       "    <tr>\n",
       "      <th>max</th>\n",
       "      <td>5.309658e+07</td>\n",
       "      <td>9.999931e+08</td>\n",
       "      <td>5.000000e+00</td>\n",
       "      <td>3.248000e+03</td>\n",
       "      <td>3.974000e+03</td>\n",
       "    </tr>\n",
       "  </tbody>\n",
       "</table>\n",
       "</div>"
      ],
      "text/plain": [
       "        customer_id  product_parent   star_rating  helpful_votes   total_votes\n",
       "count  4.057147e+06    4.057147e+06  4.057147e+06   4.057147e+06  4.057147e+06\n",
       "mean   2.823094e+07    5.044513e+08  4.201208e+00   5.002212e-01  1.075066e+00\n",
       "std    1.526968e+07    2.888800e+08  1.223497e+00   4.542439e+00  5.896154e+00\n",
       "min    1.001300e+04    8.844000e+03  1.000000e+00   0.000000e+00  0.000000e+00\n",
       "25%    1.478047e+07    2.433494e+08  4.000000e+00   0.000000e+00  0.000000e+00\n",
       "50%    2.700659e+07    5.176379e+08  5.000000e+00   0.000000e+00  0.000000e+00\n",
       "75%    4.260941e+07    7.542402e+08  5.000000e+00   0.000000e+00  1.000000e+00\n",
       "max    5.309658e+07    9.999931e+08  5.000000e+00   3.248000e+03  3.974000e+03"
      ]
     },
     "execution_count": 7,
     "metadata": {},
     "output_type": "execute_result"
    }
   ],
   "source": [
    "video_df.describe()"
   ]
  },
  {
   "cell_type": "code",
   "execution_count": null,
   "id": "4b797d4d-f0ca-4482-90cb-cfd6af63c23a",
   "metadata": {},
   "outputs": [],
   "source": [
    "# star ratings are going to be hella obnoxious already since everyone is super positive...."
   ]
  },
  {
   "cell_type": "code",
   "execution_count": 9,
   "id": "feb4f771-0c1d-4de3-a901-4ae364dfeed4",
   "metadata": {},
   "outputs": [
    {
     "data": {
      "text/plain": [
       "25"
      ]
     },
     "execution_count": 9,
     "metadata": {},
     "output_type": "execute_result"
    }
   ],
   "source": [
    "video_df['review_headline'].isna().sum()"
   ]
  },
  {
   "cell_type": "code",
   "execution_count": 6,
   "id": "fe8bfee4-108f-4538-b24a-b937f3b2624e",
   "metadata": {},
   "outputs": [
    {
     "data": {
      "text/plain": [
       "81"
      ]
     },
     "execution_count": 6,
     "metadata": {},
     "output_type": "execute_result"
    }
   ],
   "source": [
    "video_df['review_body'].isna().sum()"
   ]
  },
  {
   "cell_type": "code",
   "execution_count": 7,
   "id": "dd1545f6-4a50-4a5b-afe4-f6a215a7bc5f",
   "metadata": {},
   "outputs": [],
   "source": [
    "pd.set_option('display.max_rows',None)"
   ]
  },
  {
   "cell_type": "code",
   "execution_count": 9,
   "id": "6660457a-42b4-41df-9094-a6590b763617",
   "metadata": {},
   "outputs": [
    {
     "data": {
      "text/plain": [
       "marketplace           0\n",
       "customer_id           0\n",
       "review_id             0\n",
       "product_id            0\n",
       "product_parent        0\n",
       "product_title         0\n",
       "product_category      0\n",
       "star_rating           0\n",
       "helpful_votes         0\n",
       "total_votes           0\n",
       "vine                  0\n",
       "verified_purchase     0\n",
       "review_headline      25\n",
       "review_body          81\n",
       "review_date           0\n",
       "dtype: int64"
      ]
     },
     "execution_count": 9,
     "metadata": {},
     "output_type": "execute_result"
    }
   ],
   "source": [
    "video_df.isna().sum()"
   ]
  },
  {
   "cell_type": "code",
   "execution_count": 10,
   "id": "dae2cfcc-e782-433d-b0ab-21569758a1b2",
   "metadata": {},
   "outputs": [
    {
     "data": {
      "text/plain": [
       "marketplace           0\n",
       "customer_id           0\n",
       "review_id             0\n",
       "product_id            0\n",
       "product_parent        0\n",
       "product_title         0\n",
       "product_category      0\n",
       "star_rating           0\n",
       "helpful_votes         0\n",
       "total_votes           0\n",
       "vine                  0\n",
       "verified_purchase     0\n",
       "review_headline      70\n",
       "review_body          28\n",
       "review_date           0\n",
       "dtype: int64"
      ]
     },
     "execution_count": 10,
     "metadata": {},
     "output_type": "execute_result"
    }
   ],
   "source": [
    "dvd_df.isna().sum()"
   ]
  },
  {
   "cell_type": "code",
   "execution_count": null,
   "id": "9e253c5b-c6de-4954-b1d3-96e6bb575c34",
   "metadata": {},
   "outputs": [],
   "source": [
    "# seems like there's a neglegible amount of missing data which is awesome\n",
    "# will try all the columns since i only did ids and titles before"
   ]
  },
  {
   "cell_type": "code",
   "execution_count": 11,
   "id": "893f40d0-d8bc-4a52-a363-38950f59c932",
   "metadata": {},
   "outputs": [
    {
     "data": {
      "text/plain": [
       "marketplace           0\n",
       "customer_id           0\n",
       "review_id             0\n",
       "product_id            0\n",
       "product_parent        0\n",
       "product_title         0\n",
       "product_category      0\n",
       "star_rating           0\n",
       "helpful_votes         0\n",
       "total_votes           0\n",
       "vine                  0\n",
       "verified_purchase     0\n",
       "review_headline      70\n",
       "review_body          28\n",
       "review_date           0\n",
       "dtype: int64"
      ]
     },
     "execution_count": 11,
     "metadata": {},
     "output_type": "execute_result"
    }
   ],
   "source": [
    "dvd_df.isnull().sum()"
   ]
  },
  {
   "cell_type": "code",
   "execution_count": null,
   "id": "19978688-0823-4f12-9b5f-2716aceee864",
   "metadata": {},
   "outputs": [],
   "source": [
    "# its just the same ones..."
   ]
  },
  {
   "cell_type": "code",
   "execution_count": 12,
   "id": "ff5a1971-516c-436e-bf13-94854d2595b6",
   "metadata": {},
   "outputs": [
    {
     "data": {
      "text/plain": [
       "marketplace           0\n",
       "customer_id           0\n",
       "review_id             0\n",
       "product_id            0\n",
       "product_parent        0\n",
       "product_title         0\n",
       "product_category      0\n",
       "star_rating           0\n",
       "helpful_votes         0\n",
       "total_votes           0\n",
       "vine                  0\n",
       "verified_purchase     0\n",
       "review_headline      25\n",
       "review_body          81\n",
       "review_date           0\n",
       "dtype: int64"
      ]
     },
     "execution_count": 12,
     "metadata": {},
     "output_type": "execute_result"
    }
   ],
   "source": [
    "video_df.isnull().sum()"
   ]
  },
  {
   "cell_type": "code",
   "execution_count": null,
   "id": "6aced341-4ed9-4798-bd2a-c56aa761869e",
   "metadata": {},
   "outputs": [],
   "source": [
    "# yup, just the same..."
   ]
  },
  {
   "cell_type": "code",
   "execution_count": 13,
   "id": "bd3264ce-25c1-4322-b3bd-53202a23eeb1",
   "metadata": {},
   "outputs": [
    {
     "data": {
      "text/plain": [
       "marketplace          0\n",
       "customer_id          0\n",
       "review_id            0\n",
       "product_id           0\n",
       "product_parent       0\n",
       "product_title        0\n",
       "product_category     0\n",
       "star_rating          0\n",
       "helpful_votes        0\n",
       "total_votes          0\n",
       "vine                 0\n",
       "verified_purchase    0\n",
       "review_headline      0\n",
       "review_body          0\n",
       "review_date          0\n",
       "dtype: int64"
      ]
     },
     "execution_count": 13,
     "metadata": {},
     "output_type": "execute_result"
    }
   ],
   "source": [
    "dvd_df.eq('').sum()"
   ]
  },
  {
   "cell_type": "code",
   "execution_count": 14,
   "id": "239a59e0-f3f8-4c7d-b511-09bbd634f207",
   "metadata": {},
   "outputs": [
    {
     "data": {
      "text/plain": [
       "marketplace          0\n",
       "customer_id          0\n",
       "review_id            0\n",
       "product_id           0\n",
       "product_parent       0\n",
       "product_title        0\n",
       "product_category     0\n",
       "star_rating          0\n",
       "helpful_votes        0\n",
       "total_votes          0\n",
       "vine                 0\n",
       "verified_purchase    0\n",
       "review_headline      0\n",
       "review_body          0\n",
       "review_date          0\n",
       "dtype: int64"
      ]
     },
     "execution_count": 14,
     "metadata": {},
     "output_type": "execute_result"
    }
   ],
   "source": [
    "video_df.eq('').sum()"
   ]
  },
  {
   "cell_type": "code",
   "execution_count": null,
   "id": "58ad5a5b-3eca-4ff5-8550-4ae914587092",
   "metadata": {},
   "outputs": [],
   "source": [
    "#success!!"
   ]
  },
  {
   "cell_type": "code",
   "execution_count": 15,
   "id": "cf6cf1f5-e22b-493b-b1ab-c33e0ca1881f",
   "metadata": {},
   "outputs": [
    {
     "data": {
      "text/plain": [
       "array(['Digital_Video_Download'], dtype=object)"
      ]
     },
     "execution_count": 15,
     "metadata": {},
     "output_type": "execute_result"
    }
   ],
   "source": [
    "video_df['product_category'].unique()"
   ]
  },
  {
   "cell_type": "code",
   "execution_count": 16,
   "id": "da1ca6be-f151-4fd9-a853-c603015fed82",
   "metadata": {},
   "outputs": [
    {
     "data": {
      "text/plain": [
       "array(['Video DVD'], dtype=object)"
      ]
     },
     "execution_count": 16,
     "metadata": {},
     "output_type": "execute_result"
    }
   ],
   "source": [
    "dvd_df['product_category'].unique()"
   ]
  },
  {
   "cell_type": "markdown",
   "id": "691d6af9-b3aa-4b3a-a3f7-b51655d153ba",
   "metadata": {},
   "source": [
    "### video downloads and video dvds seem like excellent datasets, very clean and plentiful. the next step would be to pare off the years with less reviews recorded. the only drawback is that the product ids don't match and using title is too difficult for my computer. im curious if there a way to do it in the old set but this set is really nice."
   ]
  },
  {
   "cell_type": "markdown",
   "id": "c1da445d-6fc0-4cb8-92b8-a54f53e9ac82",
   "metadata": {},
   "source": [
    "# Todo\n",
    "### 1. make graphics of attribute distributions\n",
    "### 2. pare out years"
   ]
  },
  {
   "cell_type": "code",
   "execution_count": null,
   "id": "21a1223f-5439-431c-a4d7-dd6dd9c7faee",
   "metadata": {},
   "outputs": [],
   "source": []
  }
 ],
 "metadata": {
  "kernelspec": {
   "display_name": "Python 3",
   "language": "python",
   "name": "python3"
  },
  "language_info": {
   "codemirror_mode": {
    "name": "ipython",
    "version": 3
   },
   "file_extension": ".py",
   "mimetype": "text/x-python",
   "name": "python",
   "nbconvert_exporter": "python",
   "pygments_lexer": "ipython3",
   "version": "3.8.8"
  }
 },
 "nbformat": 4,
 "nbformat_minor": 5
}
