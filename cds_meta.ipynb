{
 "cells": [
  {
   "cell_type": "code",
   "execution_count": 2,
   "metadata": {
    "id": "f5NDXrN2CtH7"
   },
   "outputs": [],
   "source": [
    "import os\n",
    "import json\n",
    "import gzip\n",
    "import pandas as pd"
   ]
  },
  {
   "cell_type": "code",
   "execution_count": 3,
   "metadata": {},
   "outputs": [
    {
     "name": "stdout",
     "output_type": "stream",
     "text": [
      "/Users/auraulloa/Desktop/DataSciencePipeline/project\n"
     ]
    }
   ],
   "source": [
    "!pwd"
   ]
  },
  {
   "cell_type": "markdown",
   "metadata": {},
   "source": [
    "# CD and Vinyls"
   ]
  },
  {
   "cell_type": "code",
   "execution_count": 4,
   "metadata": {},
   "outputs": [],
   "source": [
    "path = '/Users/auraulloa/Desktop/DataSciencePipeline/'\n",
    "physical_path = path + 'meta_CDs_and_Vinyl.json.gz'"
   ]
  },
  {
   "cell_type": "code",
   "execution_count": 5,
   "metadata": {
    "colab": {
     "base_uri": "https://localhost:8080/"
    },
    "id": "7igYuRaV4bF7",
    "outputId": "4f6e7ae4-0486-45ba-91e4-cb05fdafce59"
   },
   "outputs": [
    {
     "name": "stdout",
     "output_type": "stream",
     "text": [
      "516914\n"
     ]
    }
   ],
   "source": [
    "### load the meta data\n",
    "\n",
    "phys_data = []\n",
    "with gzip.open(physical_path) as f:\n",
    "    for l in f:\n",
    "        phys_data.append(json.loads(l.strip()))\n",
    "    \n",
    "# total length of list, this number equals total number of products\n",
    "print(len(phys_data))"
   ]
  },
  {
   "cell_type": "markdown",
   "metadata": {},
   "source": [
    "There are 516,914 physical products."
   ]
  },
  {
   "cell_type": "code",
   "execution_count": 6,
   "metadata": {
    "colab": {
     "base_uri": "https://localhost:8080/"
    },
    "id": "knpHP22w4scK",
    "outputId": "61711356-2463-418a-ee0c-3ed1f7ad9a58"
   },
   "outputs": [
    {
     "name": "stdout",
     "output_type": "stream",
     "text": [
      "516914\n"
     ]
    }
   ],
   "source": [
    "# convert list into pandas dataframe\n",
    "\n",
    "phys_df = pd.DataFrame.from_dict(phys_data)\n",
    "\n",
    "print(len(phys_df))"
   ]
  },
  {
   "cell_type": "code",
   "execution_count": 7,
   "metadata": {
    "colab": {
     "base_uri": "https://localhost:8080/"
    },
    "id": "LgWrDtZ94w89",
    "outputId": "5177a1c5-82df-4889-84a3-de6614dd21e1"
   },
   "outputs": [
    {
     "name": "stdout",
     "output_type": "stream",
     "text": [
      "516914\n"
     ]
    }
   ],
   "source": [
    "phystemp = phys_df.fillna('')\n",
    "physicals = phystemp[~phystemp.title.str.contains('getTime')] # filter those unformatted rows\n",
    "print(len(physicals))"
   ]
  },
  {
   "cell_type": "code",
   "execution_count": 8,
   "metadata": {
    "colab": {
     "base_uri": "https://localhost:8080/",
     "height": 539
    },
    "id": "6LBLzsFU5LJ_",
    "outputId": "0ee199be-7fe4-4022-c0fa-167489fd609d"
   },
   "outputs": [
    {
     "data": {
      "text/html": [
       "<div>\n",
       "<style scoped>\n",
       "    .dataframe tbody tr th:only-of-type {\n",
       "        vertical-align: middle;\n",
       "    }\n",
       "\n",
       "    .dataframe tbody tr th {\n",
       "        vertical-align: top;\n",
       "    }\n",
       "\n",
       "    .dataframe thead th {\n",
       "        text-align: right;\n",
       "    }\n",
       "</style>\n",
       "<table border=\"1\" class=\"dataframe\">\n",
       "  <thead>\n",
       "    <tr style=\"text-align: right;\">\n",
       "      <th></th>\n",
       "      <th>category</th>\n",
       "      <th>tech1</th>\n",
       "      <th>description</th>\n",
       "      <th>fit</th>\n",
       "      <th>title</th>\n",
       "      <th>also_buy</th>\n",
       "      <th>tech2</th>\n",
       "      <th>brand</th>\n",
       "      <th>feature</th>\n",
       "      <th>rank</th>\n",
       "      <th>also_view</th>\n",
       "      <th>main_cat</th>\n",
       "      <th>similar_item</th>\n",
       "      <th>date</th>\n",
       "      <th>price</th>\n",
       "      <th>asin</th>\n",
       "      <th>imageURL</th>\n",
       "      <th>imageURLHighRes</th>\n",
       "      <th>details</th>\n",
       "    </tr>\n",
       "  </thead>\n",
       "  <tbody>\n",
       "    <tr>\n",
       "      <th>0</th>\n",
       "      <td>[CDs &amp; Vinyl, Christian]</td>\n",
       "      <td></td>\n",
       "      <td>[]</td>\n",
       "      <td></td>\n",
       "      <td>Songs for the Shepherd</td>\n",
       "      <td>[B0016CP2GS, B0000075PB, B0000275QQ, B00000I7J...</td>\n",
       "      <td></td>\n",
       "      <td>Keith Green</td>\n",
       "      <td>[]</td>\n",
       "      <td>123,896 in CDs &amp; Vinyl (</td>\n",
       "      <td>[B0016CP2GS, B00000I7JO, B00000I9AH, B00P826ZR...</td>\n",
       "      <td>&lt;img src=\"https://images-na.ssl-images-amazon....</td>\n",
       "      <td></td>\n",
       "      <td></td>\n",
       "      <td></td>\n",
       "      <td>0001393774</td>\n",
       "      <td>[]</td>\n",
       "      <td>[]</td>\n",
       "      <td></td>\n",
       "    </tr>\n",
       "    <tr>\n",
       "      <th>1</th>\n",
       "      <td>[CDs &amp; Vinyl, Christian, Pop &amp; Contemporary]</td>\n",
       "      <td></td>\n",
       "      <td>[]</td>\n",
       "      <td></td>\n",
       "      <td>Lift Him Up With Ron Kenoly VHS</td>\n",
       "      <td>[6303908845, 6303646611, B000008GO1]</td>\n",
       "      <td></td>\n",
       "      <td></td>\n",
       "      <td>[]</td>\n",
       "      <td>284,935 in Movies &amp; TV (</td>\n",
       "      <td>[B00000DUDE]</td>\n",
       "      <td>Movies &amp; TV</td>\n",
       "      <td></td>\n",
       "      <td></td>\n",
       "      <td></td>\n",
       "      <td>0001501348</td>\n",
       "      <td>[]</td>\n",
       "      <td>[]</td>\n",
       "      <td></td>\n",
       "    </tr>\n",
       "    <tr>\n",
       "      <th>2</th>\n",
       "      <td>[CDs &amp; Vinyl, Christian, Children's]</td>\n",
       "      <td></td>\n",
       "      <td>[]</td>\n",
       "      <td></td>\n",
       "      <td>I Love You</td>\n",
       "      <td>[]</td>\n",
       "      <td></td>\n",
       "      <td>Integrity Music</td>\n",
       "      <td>[]</td>\n",
       "      <td>1,138,833 in CDs &amp; Vinyl (</td>\n",
       "      <td>[]</td>\n",
       "      <td>&lt;img src=\"https://images-na.ssl-images-amazon....</td>\n",
       "      <td></td>\n",
       "      <td></td>\n",
       "      <td></td>\n",
       "      <td>0001515209</td>\n",
       "      <td>[]</td>\n",
       "      <td>[]</td>\n",
       "      <td></td>\n",
       "    </tr>\n",
       "    <tr>\n",
       "      <th>3</th>\n",
       "      <td>[CDs &amp; Vinyl, Christian, Children's]</td>\n",
       "      <td></td>\n",
       "      <td>[1) To God Be The Glory2) This Is My Fathers W...</td>\n",
       "      <td></td>\n",
       "      <td>Hymns: 16 Classic Hymns for Children</td>\n",
       "      <td>[B00000DPLJ, B000008UPG, B00BQH9RKA, B00KYVHGR...</td>\n",
       "      <td></td>\n",
       "      <td>Sue Gay</td>\n",
       "      <td>[]</td>\n",
       "      <td>271,064 in CDs &amp; Vinyl (</td>\n",
       "      <td>[B00000DPLL, 0843113006, B00BQH9RKA, B000008UP...</td>\n",
       "      <td>&lt;img src=\"https://images-na.ssl-images-amazon....</td>\n",
       "      <td></td>\n",
       "      <td></td>\n",
       "      <td>.a-section.a-spacing-mini{margin-bottom:6px!im...</td>\n",
       "      <td>0005072298</td>\n",
       "      <td>[]</td>\n",
       "      <td>[]</td>\n",
       "      <td></td>\n",
       "    </tr>\n",
       "    <tr>\n",
       "      <th>4</th>\n",
       "      <td>[CDs &amp; Vinyl, Christian, Children's]</td>\n",
       "      <td></td>\n",
       "      <td>[Joy To The World 2 The First Noel 3 Hark! The...</td>\n",
       "      <td></td>\n",
       "      <td>Christmas Carols</td>\n",
       "      <td>[B0010WAC50, B00000DPLJ]</td>\n",
       "      <td></td>\n",
       "      <td>Cedarmont Kids</td>\n",
       "      <td>[]</td>\n",
       "      <td>409,293 in CDs &amp; Vinyl (</td>\n",
       "      <td>[B00000DPKG, B0010WAC50, B00000DPKH, B00FSZPM8...</td>\n",
       "      <td>&lt;img src=\"https://images-na.ssl-images-amazon....</td>\n",
       "      <td></td>\n",
       "      <td></td>\n",
       "      <td></td>\n",
       "      <td>0005121515</td>\n",
       "      <td>[]</td>\n",
       "      <td>[]</td>\n",
       "      <td></td>\n",
       "    </tr>\n",
       "  </tbody>\n",
       "</table>\n",
       "</div>"
      ],
      "text/plain": [
       "                                       category tech1  \\\n",
       "0                      [CDs & Vinyl, Christian]         \n",
       "1  [CDs & Vinyl, Christian, Pop & Contemporary]         \n",
       "2          [CDs & Vinyl, Christian, Children's]         \n",
       "3          [CDs & Vinyl, Christian, Children's]         \n",
       "4          [CDs & Vinyl, Christian, Children's]         \n",
       "\n",
       "                                         description fit  \\\n",
       "0                                                 []       \n",
       "1                                                 []       \n",
       "2                                                 []       \n",
       "3  [1) To God Be The Glory2) This Is My Fathers W...       \n",
       "4  [Joy To The World 2 The First Noel 3 Hark! The...       \n",
       "\n",
       "                                  title  \\\n",
       "0                Songs for the Shepherd   \n",
       "1       Lift Him Up With Ron Kenoly VHS   \n",
       "2                            I Love You   \n",
       "3  Hymns: 16 Classic Hymns for Children   \n",
       "4                      Christmas Carols   \n",
       "\n",
       "                                            also_buy tech2            brand  \\\n",
       "0  [B0016CP2GS, B0000075PB, B0000275QQ, B00000I7J...            Keith Green   \n",
       "1               [6303908845, 6303646611, B000008GO1]                          \n",
       "2                                                 []        Integrity Music   \n",
       "3  [B00000DPLJ, B000008UPG, B00BQH9RKA, B00KYVHGR...                Sue Gay   \n",
       "4                           [B0010WAC50, B00000DPLJ]         Cedarmont Kids   \n",
       "\n",
       "  feature                        rank  \\\n",
       "0      []    123,896 in CDs & Vinyl (   \n",
       "1      []    284,935 in Movies & TV (   \n",
       "2      []  1,138,833 in CDs & Vinyl (   \n",
       "3      []    271,064 in CDs & Vinyl (   \n",
       "4      []    409,293 in CDs & Vinyl (   \n",
       "\n",
       "                                           also_view  \\\n",
       "0  [B0016CP2GS, B00000I7JO, B00000I9AH, B00P826ZR...   \n",
       "1                                       [B00000DUDE]   \n",
       "2                                                 []   \n",
       "3  [B00000DPLL, 0843113006, B00BQH9RKA, B000008UP...   \n",
       "4  [B00000DPKG, B0010WAC50, B00000DPKH, B00FSZPM8...   \n",
       "\n",
       "                                            main_cat similar_item date  \\\n",
       "0  <img src=\"https://images-na.ssl-images-amazon....                     \n",
       "1                                        Movies & TV                     \n",
       "2  <img src=\"https://images-na.ssl-images-amazon....                     \n",
       "3  <img src=\"https://images-na.ssl-images-amazon....                     \n",
       "4  <img src=\"https://images-na.ssl-images-amazon....                     \n",
       "\n",
       "                                               price        asin imageURL  \\\n",
       "0                                                     0001393774       []   \n",
       "1                                                     0001501348       []   \n",
       "2                                                     0001515209       []   \n",
       "3  .a-section.a-spacing-mini{margin-bottom:6px!im...  0005072298       []   \n",
       "4                                                     0005121515       []   \n",
       "\n",
       "  imageURLHighRes details  \n",
       "0              []          \n",
       "1              []          \n",
       "2              []          \n",
       "3              []          \n",
       "4              []          "
      ]
     },
     "execution_count": 8,
     "metadata": {},
     "output_type": "execute_result"
    }
   ],
   "source": [
    "physicals.head()"
   ]
  },
  {
   "cell_type": "markdown",
   "metadata": {},
   "source": [
    "# Digital Music"
   ]
  },
  {
   "cell_type": "code",
   "execution_count": 9,
   "metadata": {
    "colab": {
     "base_uri": "https://localhost:8080/"
    },
    "id": "5f8GkiUUQlHc",
    "outputId": "fc7cf63a-2a7e-4fbe-9b45-a615ba6315e9"
   },
   "outputs": [
    {
     "name": "stdout",
     "output_type": "stream",
     "text": [
      "74347\n"
     ]
    }
   ],
   "source": [
    "### load the meta data\n",
    "dig_path = path + 'meta_Digital_Music.json.gz'\n",
    "dig_data = []\n",
    "with gzip.open(dig_path) as f:\n",
    "    for l in f:\n",
    "        dig_data.append(json.loads(l.strip()))\n",
    "    \n",
    "# total length of list, this number equals total number of products\n",
    "print(len(dig_data))"
   ]
  },
  {
   "cell_type": "markdown",
   "metadata": {},
   "source": [
    "There are 74,347 digital music products in dataset. Much less the 516,914 physical ones in the set."
   ]
  },
  {
   "cell_type": "code",
   "execution_count": 10,
   "metadata": {
    "colab": {
     "base_uri": "https://localhost:8080/"
    },
    "id": "m30elbLWQsdp",
    "outputId": "4b95b2fd-b889-43db-8d9f-1734efbaae2f"
   },
   "outputs": [
    {
     "name": "stdout",
     "output_type": "stream",
     "text": [
      "74347\n"
     ]
    }
   ],
   "source": [
    "# convert list into pandas dataframe\n",
    "\n",
    "dig_df = pd.DataFrame.from_dict(dig_data)\n",
    "\n",
    "print(len(dig_df))"
   ]
  },
  {
   "cell_type": "code",
   "execution_count": 11,
   "metadata": {
    "colab": {
     "base_uri": "https://localhost:8080/"
    },
    "id": "AYECX4o5QxV1",
    "outputId": "876be325-98cb-45bc-eaac-b9e58626af07"
   },
   "outputs": [
    {
     "name": "stdout",
     "output_type": "stream",
     "text": [
      "74347\n"
     ]
    }
   ],
   "source": [
    "digtemp = dig_df.fillna('')\n",
    "digitals = digtemp[~digtemp.title.str.contains('getTime')] # filter those unformatted rows\n",
    "print(len(digitals))"
   ]
  },
  {
   "cell_type": "code",
   "execution_count": 12,
   "metadata": {
    "colab": {
     "base_uri": "https://localhost:8080/",
     "height": 487
    },
    "id": "7yOH1jHbRCa6",
    "outputId": "8c887d71-0d90-49c2-d94c-37374aad99f7"
   },
   "outputs": [
    {
     "data": {
      "text/html": [
       "<div>\n",
       "<style scoped>\n",
       "    .dataframe tbody tr th:only-of-type {\n",
       "        vertical-align: middle;\n",
       "    }\n",
       "\n",
       "    .dataframe tbody tr th {\n",
       "        vertical-align: top;\n",
       "    }\n",
       "\n",
       "    .dataframe thead th {\n",
       "        text-align: right;\n",
       "    }\n",
       "</style>\n",
       "<table border=\"1\" class=\"dataframe\">\n",
       "  <thead>\n",
       "    <tr style=\"text-align: right;\">\n",
       "      <th></th>\n",
       "      <th>category</th>\n",
       "      <th>tech1</th>\n",
       "      <th>description</th>\n",
       "      <th>fit</th>\n",
       "      <th>title</th>\n",
       "      <th>also_buy</th>\n",
       "      <th>tech2</th>\n",
       "      <th>brand</th>\n",
       "      <th>feature</th>\n",
       "      <th>rank</th>\n",
       "      <th>also_view</th>\n",
       "      <th>main_cat</th>\n",
       "      <th>similar_item</th>\n",
       "      <th>date</th>\n",
       "      <th>price</th>\n",
       "      <th>asin</th>\n",
       "      <th>imageURL</th>\n",
       "      <th>imageURLHighRes</th>\n",
       "      <th>details</th>\n",
       "    </tr>\n",
       "  </thead>\n",
       "  <tbody>\n",
       "    <tr>\n",
       "      <th>0</th>\n",
       "      <td>[]</td>\n",
       "      <td></td>\n",
       "      <td>[]</td>\n",
       "      <td></td>\n",
       "      <td>Master Collection Volume One</td>\n",
       "      <td>[B000002UEN, B000008LD5, B01J804JKE, 747403435...</td>\n",
       "      <td></td>\n",
       "      <td>John Michael Talbot</td>\n",
       "      <td>[]</td>\n",
       "      <td>58,291 in CDs &amp; Vinyl (</td>\n",
       "      <td>[B000002UEN, B000008LD5, 7474034352, B000008LD...</td>\n",
       "      <td>&lt;img src=\"https://images-na.ssl-images-amazon....</td>\n",
       "      <td></td>\n",
       "      <td></td>\n",
       "      <td>$18.99</td>\n",
       "      <td>0001377647</td>\n",
       "      <td>[]</td>\n",
       "      <td>[]</td>\n",
       "      <td></td>\n",
       "    </tr>\n",
       "    <tr>\n",
       "      <th>1</th>\n",
       "      <td>[]</td>\n",
       "      <td></td>\n",
       "      <td>[]</td>\n",
       "      <td></td>\n",
       "      <td>Hymns Collection: Hymns 1 &amp;amp; 2</td>\n",
       "      <td>[5558154950, B00014K5V4]</td>\n",
       "      <td></td>\n",
       "      <td>Second Chapter of Acts</td>\n",
       "      <td>[]</td>\n",
       "      <td>93,164 in CDs &amp; Vinyl (</td>\n",
       "      <td>[B000008KJ3, B000008KJ0, 5558154950, B000UN8KZ...</td>\n",
       "      <td>&lt;img src=\"https://images-na.ssl-images-amazon....</td>\n",
       "      <td></td>\n",
       "      <td></td>\n",
       "      <td></td>\n",
       "      <td>0001529145</td>\n",
       "      <td>[]</td>\n",
       "      <td>[]</td>\n",
       "      <td></td>\n",
       "    </tr>\n",
       "    <tr>\n",
       "      <th>2</th>\n",
       "      <td>[]</td>\n",
       "      <td></td>\n",
       "      <td>[]</td>\n",
       "      <td></td>\n",
       "      <td>Early Works - Don Francisco</td>\n",
       "      <td>[B00004RC05, B003H8F4NA, B003ZFVHPO, B003JMP1Z...</td>\n",
       "      <td></td>\n",
       "      <td>Don Francisco</td>\n",
       "      <td>[]</td>\n",
       "      <td>875,825 in CDs &amp; Vinyl (</td>\n",
       "      <td>[B003H8F4NA, B003ZFVHPO, B003JMP1ZK, B00004RC0...</td>\n",
       "      <td>&lt;img src=\"https://images-na.ssl-images-amazon....</td>\n",
       "      <td></td>\n",
       "      <td></td>\n",
       "      <td></td>\n",
       "      <td>0001527134</td>\n",
       "      <td>[]</td>\n",
       "      <td>[]</td>\n",
       "      <td></td>\n",
       "    </tr>\n",
       "    <tr>\n",
       "      <th>3</th>\n",
       "      <td>[]</td>\n",
       "      <td></td>\n",
       "      <td>[]</td>\n",
       "      <td></td>\n",
       "      <td>So You Wanna Go Back to Egypt</td>\n",
       "      <td>[B0000275QQ, 0001393774, 0001388312, B0016CP2G...</td>\n",
       "      <td></td>\n",
       "      <td>Keith Green</td>\n",
       "      <td>[]</td>\n",
       "      <td>203,263 in CDs &amp; Vinyl (</td>\n",
       "      <td>[B00000I7JO, B0016CP2GS, 0001393774, B0000275Q...</td>\n",
       "      <td>&lt;img src=\"https://images-na.ssl-images-amazon....</td>\n",
       "      <td></td>\n",
       "      <td></td>\n",
       "      <td>$13.01</td>\n",
       "      <td>0001388703</td>\n",
       "      <td>[]</td>\n",
       "      <td>[]</td>\n",
       "      <td></td>\n",
       "    </tr>\n",
       "    <tr>\n",
       "      <th>4</th>\n",
       "      <td>[]</td>\n",
       "      <td></td>\n",
       "      <td>[1. Losing Game 2. I Can't Wait 3. Didn't He S...</td>\n",
       "      <td></td>\n",
       "      <td>Early Works - Dallas Holm</td>\n",
       "      <td>[B0002N4JP2, 0760131694, B00002EQ79, B00150K8J...</td>\n",
       "      <td></td>\n",
       "      <td>Dallas Holm</td>\n",
       "      <td>[]</td>\n",
       "      <td>399,269 in CDs &amp; Vinyl (</td>\n",
       "      <td>[B0002N4JP2, 0760131694, B00150K8JC, B003MTXNV...</td>\n",
       "      <td>&lt;img src=\"https://images-na.ssl-images-amazon....</td>\n",
       "      <td></td>\n",
       "      <td></td>\n",
       "      <td></td>\n",
       "      <td>0001526146</td>\n",
       "      <td>[]</td>\n",
       "      <td>[]</td>\n",
       "      <td></td>\n",
       "    </tr>\n",
       "  </tbody>\n",
       "</table>\n",
       "</div>"
      ],
      "text/plain": [
       "  category tech1                                        description fit  \\\n",
       "0       []                                                       []       \n",
       "1       []                                                       []       \n",
       "2       []                                                       []       \n",
       "3       []                                                       []       \n",
       "4       []        [1. Losing Game 2. I Can't Wait 3. Didn't He S...       \n",
       "\n",
       "                               title  \\\n",
       "0       Master Collection Volume One   \n",
       "1  Hymns Collection: Hymns 1 &amp; 2   \n",
       "2        Early Works - Don Francisco   \n",
       "3      So You Wanna Go Back to Egypt   \n",
       "4          Early Works - Dallas Holm   \n",
       "\n",
       "                                            also_buy tech2  \\\n",
       "0  [B000002UEN, B000008LD5, B01J804JKE, 747403435...         \n",
       "1                           [5558154950, B00014K5V4]         \n",
       "2  [B00004RC05, B003H8F4NA, B003ZFVHPO, B003JMP1Z...         \n",
       "3  [B0000275QQ, 0001393774, 0001388312, B0016CP2G...         \n",
       "4  [B0002N4JP2, 0760131694, B00002EQ79, B00150K8J...         \n",
       "\n",
       "                    brand feature                      rank  \\\n",
       "0     John Michael Talbot      []   58,291 in CDs & Vinyl (   \n",
       "1  Second Chapter of Acts      []   93,164 in CDs & Vinyl (   \n",
       "2           Don Francisco      []  875,825 in CDs & Vinyl (   \n",
       "3             Keith Green      []  203,263 in CDs & Vinyl (   \n",
       "4             Dallas Holm      []  399,269 in CDs & Vinyl (   \n",
       "\n",
       "                                           also_view  \\\n",
       "0  [B000002UEN, B000008LD5, 7474034352, B000008LD...   \n",
       "1  [B000008KJ3, B000008KJ0, 5558154950, B000UN8KZ...   \n",
       "2  [B003H8F4NA, B003ZFVHPO, B003JMP1ZK, B00004RC0...   \n",
       "3  [B00000I7JO, B0016CP2GS, 0001393774, B0000275Q...   \n",
       "4  [B0002N4JP2, 0760131694, B00150K8JC, B003MTXNV...   \n",
       "\n",
       "                                            main_cat similar_item date  \\\n",
       "0  <img src=\"https://images-na.ssl-images-amazon....                     \n",
       "1  <img src=\"https://images-na.ssl-images-amazon....                     \n",
       "2  <img src=\"https://images-na.ssl-images-amazon....                     \n",
       "3  <img src=\"https://images-na.ssl-images-amazon....                     \n",
       "4  <img src=\"https://images-na.ssl-images-amazon....                     \n",
       "\n",
       "    price        asin imageURL imageURLHighRes details  \n",
       "0  $18.99  0001377647       []              []          \n",
       "1          0001529145       []              []          \n",
       "2          0001527134       []              []          \n",
       "3  $13.01  0001388703       []              []          \n",
       "4          0001526146       []              []          "
      ]
     },
     "execution_count": 12,
     "metadata": {},
     "output_type": "execute_result"
    }
   ],
   "source": [
    "digitals.head()"
   ]
  },
  {
   "cell_type": "code",
   "execution_count": 13,
   "metadata": {
    "colab": {
     "base_uri": "https://localhost:8080/"
    },
    "id": "0k3bCACRRw1K",
    "outputId": "9a8d4498-5321-4cb7-e5ae-ddaab7b1a5d0"
   },
   "outputs": [
    {
     "data": {
      "text/plain": [
       "45532"
      ]
     },
     "execution_count": 13,
     "metadata": {},
     "output_type": "execute_result"
    }
   ],
   "source": [
    "issa_match = physicals[physicals['title'].isin(digitals['title']) == True]\n",
    "len(issa_match)"
   ]
  },
  {
   "cell_type": "code",
   "execution_count": 14,
   "metadata": {
    "colab": {
     "base_uri": "https://localhost:8080/"
    },
    "id": "1_zhkfj7ZYrz",
    "outputId": "72b1d364-7d21-44d0-e586-407ef8b84b7a"
   },
   "outputs": [
    {
     "data": {
      "text/plain": [
       "12983"
      ]
     },
     "execution_count": 14,
     "metadata": {},
     "output_type": "execute_result"
    }
   ],
   "source": [
    "issa_match2 = digitals[digitals['title'].isin(physicals['title']) == True]\n",
    "len(issa_match2)"
   ]
  },
  {
   "cell_type": "markdown",
   "metadata": {
    "id": "4G6ehElPwnb3"
   },
   "source": [
    "Physical\n",
    "df5: 516,914\n",
    "\n",
    "Digital\n",
    "df9: 74,347\n",
    "\n",
    "Merge 45,532 (when checking if physical copies are in digital copies)\n",
    "Only 12,983 when doing it the other way :("
   ]
  },
  {
   "cell_type": "markdown",
   "metadata": {
    "id": "1ANganyBxA-Z"
   },
   "source": [
    "can't connect through asin much like the other dataset..."
   ]
  },
  {
   "cell_type": "code",
   "execution_count": 16,
   "metadata": {
    "colab": {
     "base_uri": "https://localhost:8080/"
    },
    "id": "ElNBXnb3xI_5",
    "outputId": "1cd6bbfd-7dae-4b62-b601-753f41aa08de"
   },
   "outputs": [
    {
     "data": {
      "text/plain": [
       "0.6124255181782722"
      ]
     },
     "execution_count": 16,
     "metadata": {},
     "output_type": "execute_result"
    }
   ],
   "source": [
    "len(issa_match)/len(digitals)"
   ]
  },
  {
   "cell_type": "markdown",
   "metadata": {
    "id": "ztZlEzNdxTwL"
   },
   "source": [
    "+60% of digital products get matched up to physical ones."
   ]
  },
  {
   "cell_type": "code",
   "execution_count": 23,
   "metadata": {
    "id": "F_4-0x1OxhTW"
   },
   "outputs": [],
   "source": [
    "#dfa = digitals.drop_duplicates(subset=['title'])\n",
    "#dfb = physicals.drop_duplicates(subset=['title'])\n",
    "\n",
    "try_1 = pd.merge(physicals, how='inner', on='title')"
   ]
  },
  {
   "cell_type": "code",
   "execution_count": 24,
   "metadata": {},
   "outputs": [
    {
     "data": {
      "text/plain": [
       "33202700"
      ]
     },
     "execution_count": 24,
     "metadata": {},
     "output_type": "execute_result"
    }
   ],
   "source": [
    "len(try_1)"
   ]
  },
  {
   "cell_type": "markdown",
   "metadata": {},
   "source": [
    "5184 dfa, dfb, drop duplicates\n",
    "33202700, digitals, physicals"
   ]
  }
 ],
 "metadata": {
  "colab": {
   "collapsed_sections": [],
   "name": "cds_meta.ipynb",
   "provenance": []
  },
  "kernelspec": {
   "display_name": "Python 3",
   "language": "python",
   "name": "python3"
  },
  "language_info": {
   "codemirror_mode": {
    "name": "ipython",
    "version": 3
   },
   "file_extension": ".py",
   "mimetype": "text/x-python",
   "name": "python",
   "nbconvert_exporter": "python",
   "pygments_lexer": "ipython3",
   "version": "3.8.8"
  }
 },
 "nbformat": 4,
 "nbformat_minor": 4
}
