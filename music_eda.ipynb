{
 "cells": [
  {
   "cell_type": "code",
   "execution_count": 44,
   "id": "d194a3ef-f8c5-4032-af76-764dc29da652",
   "metadata": {},
   "outputs": [],
   "source": [
    "import csv\n",
    "import pandas as pd\n",
    "import matplotlib.pyplot as plt\n",
    "import matplotlib.ticker as ticker\n",
    "import statsmodels.api as sm\n",
    "from statsmodels.graphics.gofplots import qqplot_2samples"
   ]
  },
  {
   "cell_type": "code",
   "execution_count": 4,
   "id": "3362ccd5-fc26-441e-bba2-b5b0f2546d19",
   "metadata": {},
   "outputs": [
    {
     "name": "stderr",
     "output_type": "stream",
     "text": [
      "/usr/local/anaconda3/lib/python3.8/site-packages/IPython/core/interactiveshell.py:3165: DtypeWarning: Columns (0,5) have mixed types.Specify dtype option on import or set low_memory=False.\n",
      "  has_raised = await self.run_ast_nodes(code_ast.body, cell_name,\n"
     ]
    }
   ],
   "source": [
    "digital = pd.read_csv(\"final-digital.csv\") "
   ]
  },
  {
   "cell_type": "code",
   "execution_count": 5,
   "id": "439bf133-2ea0-46e9-a6cd-735316c4d58d",
   "metadata": {},
   "outputs": [
    {
     "name": "stderr",
     "output_type": "stream",
     "text": [
      "/usr/local/anaconda3/lib/python3.8/site-packages/IPython/core/interactiveshell.py:3165: DtypeWarning: Columns (5,15) have mixed types.Specify dtype option on import or set low_memory=False.\n",
      "  has_raised = await self.run_ast_nodes(code_ast.body, cell_name,\n"
     ]
    }
   ],
   "source": [
    "physical = pd.read_csv(\"final-physical.csv\") "
   ]
  },
  {
   "cell_type": "code",
   "execution_count": null,
   "id": "ed44a05a-2858-4b1f-a392-297b45d0f56d",
   "metadata": {},
   "outputs": [],
   "source": [
    "physical[\"year\"] = physical.apply([physical[\"reviewTime\"][-4:]]"
   ]
  },
  {
   "cell_type": "code",
   "execution_count": 14,
   "id": "bd3f6303-4cf4-41b5-986b-8c534fb9e7e1",
   "metadata": {},
   "outputs": [
    {
     "data": {
      "text/html": [
       "<div>\n",
       "<style scoped>\n",
       "    .dataframe tbody tr th:only-of-type {\n",
       "        vertical-align: middle;\n",
       "    }\n",
       "\n",
       "    .dataframe tbody tr th {\n",
       "        vertical-align: top;\n",
       "    }\n",
       "\n",
       "    .dataframe thead th {\n",
       "        text-align: right;\n",
       "    }\n",
       "</style>\n",
       "<table border=\"1\" class=\"dataframe\">\n",
       "  <thead>\n",
       "    <tr style=\"text-align: right;\">\n",
       "      <th></th>\n",
       "      <th>category</th>\n",
       "      <th>description</th>\n",
       "      <th>title</th>\n",
       "      <th>also_buy</th>\n",
       "      <th>brand</th>\n",
       "      <th>feature</th>\n",
       "      <th>rank</th>\n",
       "      <th>also_view</th>\n",
       "      <th>price</th>\n",
       "      <th>asin</th>\n",
       "      <th>overall</th>\n",
       "      <th>verified</th>\n",
       "      <th>reviewTime</th>\n",
       "      <th>style</th>\n",
       "      <th>reviewText</th>\n",
       "      <th>summary</th>\n",
       "      <th>vote</th>\n",
       "      <th>year</th>\n",
       "    </tr>\n",
       "  </thead>\n",
       "  <tbody>\n",
       "    <tr>\n",
       "      <th>0</th>\n",
       "      <td>NaN</td>\n",
       "      <td>NaN</td>\n",
       "      <td>Master Collection Volume One</td>\n",
       "      <td>B000002UEN, B000008LD5, B01J804JKE, 7474034352...</td>\n",
       "      <td>John Michael Talbot</td>\n",
       "      <td>NaN</td>\n",
       "      <td>58,291 in CDs &amp; Vinyl (</td>\n",
       "      <td>B000002UEN, B000008LD5, 7474034352, B000008LDH...</td>\n",
       "      <td>$18.99</td>\n",
       "      <td>0001377647</td>\n",
       "      <td>5.0</td>\n",
       "      <td>True</td>\n",
       "      <td>02 25, 2012</td>\n",
       "      <td>MP3 Music</td>\n",
       "      <td>If you're looking for a meditative, contemplat...</td>\n",
       "      <td>JMT's best</td>\n",
       "      <td>0</td>\n",
       "      <td>2012</td>\n",
       "    </tr>\n",
       "    <tr>\n",
       "      <th>1</th>\n",
       "      <td>NaN</td>\n",
       "      <td>NaN</td>\n",
       "      <td>Master Collection Volume One</td>\n",
       "      <td>B000002UEN, B000008LD5, B01J804JKE, 7474034352...</td>\n",
       "      <td>John Michael Talbot</td>\n",
       "      <td>NaN</td>\n",
       "      <td>58,291 in CDs &amp; Vinyl (</td>\n",
       "      <td>B000002UEN, B000008LD5, 7474034352, B000008LDH...</td>\n",
       "      <td>$18.99</td>\n",
       "      <td>0001377647</td>\n",
       "      <td>5.0</td>\n",
       "      <td>True</td>\n",
       "      <td>01 12, 2012</td>\n",
       "      <td>Audio CD</td>\n",
       "      <td>I have fallen in love with John Michael Talbot...</td>\n",
       "      <td>Talbot a masterpiece</td>\n",
       "      <td>4</td>\n",
       "      <td>2012</td>\n",
       "    </tr>\n",
       "    <tr>\n",
       "      <th>2</th>\n",
       "      <td>NaN</td>\n",
       "      <td>NaN</td>\n",
       "      <td>Master Collection Volume One</td>\n",
       "      <td>B000002UEN, B000008LD5, B01J804JKE, 7474034352...</td>\n",
       "      <td>John Michael Talbot</td>\n",
       "      <td>NaN</td>\n",
       "      <td>58,291 in CDs &amp; Vinyl (</td>\n",
       "      <td>B000002UEN, B000008LD5, 7474034352, B000008LDH...</td>\n",
       "      <td>$18.99</td>\n",
       "      <td>0001377647</td>\n",
       "      <td>5.0</td>\n",
       "      <td>False</td>\n",
       "      <td>11 3, 2011</td>\n",
       "      <td>Audio CD</td>\n",
       "      <td>This was the first album I ever listened to by...</td>\n",
       "      <td>Definitely a Masterful Collection</td>\n",
       "      <td>6</td>\n",
       "      <td>2011</td>\n",
       "    </tr>\n",
       "    <tr>\n",
       "      <th>3</th>\n",
       "      <td>NaN</td>\n",
       "      <td>NaN</td>\n",
       "      <td>Master Collection Volume One</td>\n",
       "      <td>B000002UEN, B000008LD5, B01J804JKE, 7474034352...</td>\n",
       "      <td>John Michael Talbot</td>\n",
       "      <td>NaN</td>\n",
       "      <td>58,291 in CDs &amp; Vinyl (</td>\n",
       "      <td>B000002UEN, B000008LD5, 7474034352, B000008LDH...</td>\n",
       "      <td>$18.99</td>\n",
       "      <td>0001377647</td>\n",
       "      <td>5.0</td>\n",
       "      <td>True</td>\n",
       "      <td>10 25, 2011</td>\n",
       "      <td>Audio CD</td>\n",
       "      <td>Excellent CD of John Michael Talbot!!! Bought ...</td>\n",
       "      <td>Master Collection V.1 The Quiet Side</td>\n",
       "      <td>5</td>\n",
       "      <td>2011</td>\n",
       "    </tr>\n",
       "    <tr>\n",
       "      <th>4</th>\n",
       "      <td>NaN</td>\n",
       "      <td>NaN</td>\n",
       "      <td>Master Collection Volume One</td>\n",
       "      <td>B000002UEN, B000008LD5, B01J804JKE, 7474034352...</td>\n",
       "      <td>John Michael Talbot</td>\n",
       "      <td>NaN</td>\n",
       "      <td>58,291 in CDs &amp; Vinyl (</td>\n",
       "      <td>B000002UEN, B000008LD5, 7474034352, B000008LDH...</td>\n",
       "      <td>$18.99</td>\n",
       "      <td>0001377647</td>\n",
       "      <td>5.0</td>\n",
       "      <td>True</td>\n",
       "      <td>09 17, 2011</td>\n",
       "      <td>Audio CD</td>\n",
       "      <td>one of John Michael Talbot's best works. Liste...</td>\n",
       "      <td>Master Collection V. 1 The Quiet Side</td>\n",
       "      <td>0</td>\n",
       "      <td>2011</td>\n",
       "    </tr>\n",
       "  </tbody>\n",
       "</table>\n",
       "</div>"
      ],
      "text/plain": [
       "  category description                         title  \\\n",
       "0      NaN         NaN  Master Collection Volume One   \n",
       "1      NaN         NaN  Master Collection Volume One   \n",
       "2      NaN         NaN  Master Collection Volume One   \n",
       "3      NaN         NaN  Master Collection Volume One   \n",
       "4      NaN         NaN  Master Collection Volume One   \n",
       "\n",
       "                                            also_buy                brand  \\\n",
       "0  B000002UEN, B000008LD5, B01J804JKE, 7474034352...  John Michael Talbot   \n",
       "1  B000002UEN, B000008LD5, B01J804JKE, 7474034352...  John Michael Talbot   \n",
       "2  B000002UEN, B000008LD5, B01J804JKE, 7474034352...  John Michael Talbot   \n",
       "3  B000002UEN, B000008LD5, B01J804JKE, 7474034352...  John Michael Talbot   \n",
       "4  B000002UEN, B000008LD5, B01J804JKE, 7474034352...  John Michael Talbot   \n",
       "\n",
       "  feature                     rank  \\\n",
       "0     NaN  58,291 in CDs & Vinyl (   \n",
       "1     NaN  58,291 in CDs & Vinyl (   \n",
       "2     NaN  58,291 in CDs & Vinyl (   \n",
       "3     NaN  58,291 in CDs & Vinyl (   \n",
       "4     NaN  58,291 in CDs & Vinyl (   \n",
       "\n",
       "                                           also_view   price        asin  \\\n",
       "0  B000002UEN, B000008LD5, 7474034352, B000008LDH...  $18.99  0001377647   \n",
       "1  B000002UEN, B000008LD5, 7474034352, B000008LDH...  $18.99  0001377647   \n",
       "2  B000002UEN, B000008LD5, 7474034352, B000008LDH...  $18.99  0001377647   \n",
       "3  B000002UEN, B000008LD5, 7474034352, B000008LDH...  $18.99  0001377647   \n",
       "4  B000002UEN, B000008LD5, 7474034352, B000008LDH...  $18.99  0001377647   \n",
       "\n",
       "   overall  verified   reviewTime       style  \\\n",
       "0      5.0      True  02 25, 2012   MP3 Music   \n",
       "1      5.0      True  01 12, 2012    Audio CD   \n",
       "2      5.0     False   11 3, 2011    Audio CD   \n",
       "3      5.0      True  10 25, 2011    Audio CD   \n",
       "4      5.0      True  09 17, 2011    Audio CD   \n",
       "\n",
       "                                          reviewText  \\\n",
       "0  If you're looking for a meditative, contemplat...   \n",
       "1  I have fallen in love with John Michael Talbot...   \n",
       "2  This was the first album I ever listened to by...   \n",
       "3  Excellent CD of John Michael Talbot!!! Bought ...   \n",
       "4  one of John Michael Talbot's best works. Liste...   \n",
       "\n",
       "                                 summary  vote  year  \n",
       "0                             JMT's best     0  2012  \n",
       "1                   Talbot a masterpiece     4  2012  \n",
       "2      Definitely a Masterful Collection     6  2011  \n",
       "3   Master Collection V.1 The Quiet Side     5  2011  \n",
       "4  Master Collection V. 1 The Quiet Side     0  2011  "
      ]
     },
     "execution_count": 14,
     "metadata": {},
     "output_type": "execute_result"
    }
   ],
   "source": [
    "### distribution throughout the years for both for reviews\n",
    "digital[\"year\"] = digital.apply(lambda x: x[\"reviewTime\"][-4:], axis=1)\n",
    "digital.head()"
   ]
  },
  {
   "cell_type": "code",
   "execution_count": 39,
   "id": "7c40ea6a-a813-4aa0-a726-6c3f46182a82",
   "metadata": {},
   "outputs": [
    {
     "data": {
      "text/plain": [
       "Text(0.5, 0.01, 'Reviews (Count)')"
      ]
     },
     "execution_count": 39,
     "metadata": {},
     "output_type": "execute_result"
    },
    {
     "data": {
      "image/png": "[encoded data removed]",
      "text/plain": [
       "<Figure size 432x288 with 1 Axes>"
      ]
     },
     "metadata": {
      "needs_background": "light"
     },
     "output_type": "display_data"
    }
   ],
   "source": [
    "fig, axes = plt.subplots(nrows=1, ncols=1, sharex=True, sharey=True)\n",
    "\n",
    "for axis in [axes.xaxis, axes.yaxis]:\n",
    "    axis.set_major_locator(ticker.MaxNLocator(integer=True))\n",
    "\n",
    "digital[\"year\"].astype(int).plot(kind='hist', bins = 20, ax = axes, title='Digital Review Distribution by Year')\n",
    "fig.text(0.5, 0.01, 'Reviews (Count)', ha='center')"
   ]
  },
  {
   "cell_type": "code",
   "execution_count": 36,
   "id": "e0387057-1650-497e-ab37-46714ca23c2b",
   "metadata": {},
   "outputs": [],
   "source": [
    "physical[\"year\"] = physical.apply(lambda x: x[\"reviewTime\"][-4:], axis=1)"
   ]
  },
  {
   "cell_type": "code",
   "execution_count": 37,
   "id": "ba3fe462-6b8b-401e-9a27-e70388a4389a",
   "metadata": {},
   "outputs": [
    {
     "data": {
      "text/html": [
       "<div>\n",
       "<style scoped>\n",
       "    .dataframe tbody tr th:only-of-type {\n",
       "        vertical-align: middle;\n",
       "    }\n",
       "\n",
       "    .dataframe tbody tr th {\n",
       "        vertical-align: top;\n",
       "    }\n",
       "\n",
       "    .dataframe thead th {\n",
       "        text-align: right;\n",
       "    }\n",
       "</style>\n",
       "<table border=\"1\" class=\"dataframe\">\n",
       "  <thead>\n",
       "    <tr style=\"text-align: right;\">\n",
       "      <th></th>\n",
       "      <th>category</th>\n",
       "      <th>description</th>\n",
       "      <th>title</th>\n",
       "      <th>also_buy</th>\n",
       "      <th>brand</th>\n",
       "      <th>feature</th>\n",
       "      <th>rank</th>\n",
       "      <th>also_view</th>\n",
       "      <th>price</th>\n",
       "      <th>asin</th>\n",
       "      <th>verified</th>\n",
       "      <th>reviewText</th>\n",
       "      <th>overall</th>\n",
       "      <th>reviewTime</th>\n",
       "      <th>summary</th>\n",
       "      <th>vote</th>\n",
       "      <th>style</th>\n",
       "      <th>year</th>\n",
       "    </tr>\n",
       "  </thead>\n",
       "  <tbody>\n",
       "    <tr>\n",
       "      <th>0</th>\n",
       "      <td>CDs &amp; Vinyl, Christian</td>\n",
       "      <td>NaN</td>\n",
       "      <td>Songs for the Shepherd</td>\n",
       "      <td>B0016CP2GS, B0000075PB, B0000275QQ, B00000I7JO...</td>\n",
       "      <td>Keith Green</td>\n",
       "      <td>NaN</td>\n",
       "      <td>123,896 in CDs &amp; Vinyl (</td>\n",
       "      <td>B0016CP2GS, B00000I7JO, B00000I9AH, B00P826ZRM...</td>\n",
       "      <td>NaN</td>\n",
       "      <td>0001393774</td>\n",
       "      <td>True</td>\n",
       "      <td>I love this CD.  So inspiring!</td>\n",
       "      <td>5.0</td>\n",
       "      <td>04 29, 2016</td>\n",
       "      <td>Five Stars</td>\n",
       "      <td>0</td>\n",
       "      <td>NaN</td>\n",
       "      <td>2016</td>\n",
       "    </tr>\n",
       "    <tr>\n",
       "      <th>1</th>\n",
       "      <td>CDs &amp; Vinyl, Christian</td>\n",
       "      <td>NaN</td>\n",
       "      <td>Songs for the Shepherd</td>\n",
       "      <td>B0016CP2GS, B0000075PB, B0000275QQ, B00000I7JO...</td>\n",
       "      <td>Keith Green</td>\n",
       "      <td>NaN</td>\n",
       "      <td>123,896 in CDs &amp; Vinyl (</td>\n",
       "      <td>B0016CP2GS, B00000I7JO, B00000I9AH, B00P826ZRM...</td>\n",
       "      <td>NaN</td>\n",
       "      <td>0001393774</td>\n",
       "      <td>True</td>\n",
       "      <td>Love it!!  Great seller!</td>\n",
       "      <td>5.0</td>\n",
       "      <td>04 29, 2016</td>\n",
       "      <td>Five Stars</td>\n",
       "      <td>0</td>\n",
       "      <td>NaN</td>\n",
       "      <td>2016</td>\n",
       "    </tr>\n",
       "    <tr>\n",
       "      <th>2</th>\n",
       "      <td>CDs &amp; Vinyl, Christian</td>\n",
       "      <td>NaN</td>\n",
       "      <td>Songs for the Shepherd</td>\n",
       "      <td>B0016CP2GS, B0000075PB, B0000275QQ, B00000I7JO...</td>\n",
       "      <td>Keith Green</td>\n",
       "      <td>NaN</td>\n",
       "      <td>123,896 in CDs &amp; Vinyl (</td>\n",
       "      <td>B0016CP2GS, B00000I7JO, B00000I9AH, B00P826ZRM...</td>\n",
       "      <td>NaN</td>\n",
       "      <td>0001393774</td>\n",
       "      <td>True</td>\n",
       "      <td>I bought this on cassette tape in the 80's. So...</td>\n",
       "      <td>5.0</td>\n",
       "      <td>04 19, 2016</td>\n",
       "      <td>I bought this on cassette tape in the 80's. ...</td>\n",
       "      <td>0</td>\n",
       "      <td>NaN</td>\n",
       "      <td>2016</td>\n",
       "    </tr>\n",
       "    <tr>\n",
       "      <th>3</th>\n",
       "      <td>CDs &amp; Vinyl, Christian</td>\n",
       "      <td>NaN</td>\n",
       "      <td>Songs for the Shepherd</td>\n",
       "      <td>B0016CP2GS, B0000075PB, B0000275QQ, B00000I7JO...</td>\n",
       "      <td>Keith Green</td>\n",
       "      <td>NaN</td>\n",
       "      <td>123,896 in CDs &amp; Vinyl (</td>\n",
       "      <td>B0016CP2GS, B00000I7JO, B00000I9AH, B00P826ZRM...</td>\n",
       "      <td>NaN</td>\n",
       "      <td>0001393774</td>\n",
       "      <td>True</td>\n",
       "      <td>as good as i remember back when i bought the o...</td>\n",
       "      <td>5.0</td>\n",
       "      <td>03 30, 2016</td>\n",
       "      <td>Five Stars</td>\n",
       "      <td>0</td>\n",
       "      <td>NaN</td>\n",
       "      <td>2016</td>\n",
       "    </tr>\n",
       "    <tr>\n",
       "      <th>4</th>\n",
       "      <td>CDs &amp; Vinyl, Christian</td>\n",
       "      <td>NaN</td>\n",
       "      <td>Songs for the Shepherd</td>\n",
       "      <td>B0016CP2GS, B0000075PB, B0000275QQ, B00000I7JO...</td>\n",
       "      <td>Keith Green</td>\n",
       "      <td>NaN</td>\n",
       "      <td>123,896 in CDs &amp; Vinyl (</td>\n",
       "      <td>B0016CP2GS, B00000I7JO, B00000I9AH, B00P826ZRM...</td>\n",
       "      <td>NaN</td>\n",
       "      <td>0001393774</td>\n",
       "      <td>True</td>\n",
       "      <td>One of my very favourite albums from one of my...</td>\n",
       "      <td>5.0</td>\n",
       "      <td>02 23, 2016</td>\n",
       "      <td>One of my very favourite albums from one of my...</td>\n",
       "      <td>0</td>\n",
       "      <td>NaN</td>\n",
       "      <td>2016</td>\n",
       "    </tr>\n",
       "  </tbody>\n",
       "</table>\n",
       "</div>"
      ],
      "text/plain": [
       "                 category description                   title  \\\n",
       "0  CDs & Vinyl, Christian         NaN  Songs for the Shepherd   \n",
       "1  CDs & Vinyl, Christian         NaN  Songs for the Shepherd   \n",
       "2  CDs & Vinyl, Christian         NaN  Songs for the Shepherd   \n",
       "3  CDs & Vinyl, Christian         NaN  Songs for the Shepherd   \n",
       "4  CDs & Vinyl, Christian         NaN  Songs for the Shepherd   \n",
       "\n",
       "                                            also_buy        brand feature  \\\n",
       "0  B0016CP2GS, B0000075PB, B0000275QQ, B00000I7JO...  Keith Green     NaN   \n",
       "1  B0016CP2GS, B0000075PB, B0000275QQ, B00000I7JO...  Keith Green     NaN   \n",
       "2  B0016CP2GS, B0000075PB, B0000275QQ, B00000I7JO...  Keith Green     NaN   \n",
       "3  B0016CP2GS, B0000075PB, B0000275QQ, B00000I7JO...  Keith Green     NaN   \n",
       "4  B0016CP2GS, B0000075PB, B0000275QQ, B00000I7JO...  Keith Green     NaN   \n",
       "\n",
       "                       rank  \\\n",
       "0  123,896 in CDs & Vinyl (   \n",
       "1  123,896 in CDs & Vinyl (   \n",
       "2  123,896 in CDs & Vinyl (   \n",
       "3  123,896 in CDs & Vinyl (   \n",
       "4  123,896 in CDs & Vinyl (   \n",
       "\n",
       "                                           also_view price        asin  \\\n",
       "0  B0016CP2GS, B00000I7JO, B00000I9AH, B00P826ZRM...   NaN  0001393774   \n",
       "1  B0016CP2GS, B00000I7JO, B00000I9AH, B00P826ZRM...   NaN  0001393774   \n",
       "2  B0016CP2GS, B00000I7JO, B00000I9AH, B00P826ZRM...   NaN  0001393774   \n",
       "3  B0016CP2GS, B00000I7JO, B00000I9AH, B00P826ZRM...   NaN  0001393774   \n",
       "4  B0016CP2GS, B00000I7JO, B00000I9AH, B00P826ZRM...   NaN  0001393774   \n",
       "\n",
       "   verified                                         reviewText  overall  \\\n",
       "0      True                     I love this CD.  So inspiring!      5.0   \n",
       "1      True                           Love it!!  Great seller!      5.0   \n",
       "2      True  I bought this on cassette tape in the 80's. So...      5.0   \n",
       "3      True  as good as i remember back when i bought the o...      5.0   \n",
       "4      True  One of my very favourite albums from one of my...      5.0   \n",
       "\n",
       "    reviewTime                                            summary vote style  \\\n",
       "0  04 29, 2016                                         Five Stars    0   NaN   \n",
       "1  04 29, 2016                                         Five Stars    0   NaN   \n",
       "2  04 19, 2016    I bought this on cassette tape in the 80's. ...    0   NaN   \n",
       "3  03 30, 2016                                         Five Stars    0   NaN   \n",
       "4  02 23, 2016  One of my very favourite albums from one of my...    0   NaN   \n",
       "\n",
       "   year  \n",
       "0  2016  \n",
       "1  2016  \n",
       "2  2016  \n",
       "3  2016  \n",
       "4  2016  "
      ]
     },
     "execution_count": 37,
     "metadata": {},
     "output_type": "execute_result"
    }
   ],
   "source": [
    "physical.head()"
   ]
  },
  {
   "cell_type": "code",
   "execution_count": 40,
   "id": "c1348bc6-f8cf-4677-8ddb-8f4e727b80bf",
   "metadata": {},
   "outputs": [
    {
     "data": {
      "text/plain": [
       "Text(0.5, 0.01, 'Reviews (Count)')"
      ]
     },
     "execution_count": 40,
     "metadata": {},
     "output_type": "execute_result"
    },
    {
     "data": {
      "image/png": "[encoded data removed]",
      "text/plain": [
       "<Figure size 432x288 with 1 Axes>"
      ]
     },
     "metadata": {
      "needs_background": "light"
     },
     "output_type": "display_data"
    }
   ],
   "source": [
    "fig, axes = plt.subplots(nrows=1, ncols=1, sharex=True, sharey=True)\n",
    "\n",
    "for axis in [axes.xaxis, axes.yaxis]:\n",
    "    axis.set_major_locator(ticker.MaxNLocator(integer=True))\n",
    "\n",
    "physical[\"year\"].astype(int).plot(kind='hist', bins = 20, ax = axes, title='Physical Review Distribution by Year')\n",
    "fig.text(0.5, 0.01, 'Reviews (Count)', ha='center')"
   ]
  },
  {
   "cell_type": "code",
   "execution_count": null,
   "id": "97d6bd5b-96b1-4713-8730-8cf079dc051c",
   "metadata": {},
   "outputs": [],
   "source": [
    "### distribution of styles and categories\n"
   ]
  },
  {
   "cell_type": "code",
   "execution_count": 54,
   "id": "9f1217a1-405c-4303-9e0e-265b77f0288b",
   "metadata": {},
   "outputs": [
    {
     "data": {
      "text/plain": [
       "Text(0.5, 0.01, 'Stars (Count)')"
      ]
     },
     "execution_count": 54,
     "metadata": {},
     "output_type": "execute_result"
    },
    {
     "data": {
      "image/png": "[encoded data removed]",
      "text/plain": [
       "<Figure size 432x288 with 1 Axes>"
      ]
     },
     "metadata": {
      "needs_background": "light"
     },
     "output_type": "display_data"
    }
   ],
   "source": [
    "### distribution of star ratings\n",
    "fig, axes = plt.subplots(nrows=1, ncols=1, sharex=True, sharey=True)\n",
    "\n",
    "digital[\"overall\"].astype(float).plot(kind='hist', ax = axes, title='Digital Review Star Distribution')\n",
    "fig.text(0.5, 0.01, 'Stars (Count)', ha='center')"
   ]
  },
  {
   "cell_type": "code",
   "execution_count": 55,
   "id": "af39b4ec-fe5f-486a-ba12-4fb6b5d608e3",
   "metadata": {},
   "outputs": [
    {
     "data": {
      "text/plain": [
       "Text(0.5, 0.01, 'Stars (Count)')"
      ]
     },
     "execution_count": 55,
     "metadata": {},
     "output_type": "execute_result"
    },
    {
     "data": {
      "image/png": "[encoded data removed]",
      "text/plain": [
       "<Figure size 432x288 with 1 Axes>"
      ]
     },
     "metadata": {
      "needs_background": "light"
     },
     "output_type": "display_data"
    }
   ],
   "source": [
    "fig, axes = plt.subplots(nrows=1, ncols=1, sharex=True, sharey=True)\n",
    "\n",
    "physical[\"overall\"].astype(float).plot(kind='hist', ax = axes, title='Physical Review Star Distribution')\n",
    "fig.text(0.5, 0.01, 'Stars (Count)', ha='center')"
   ]
  },
  {
   "cell_type": "code",
   "execution_count": 68,
   "id": "80216909-9cd0-45cf-96b2-59480427d1e4",
   "metadata": {},
   "outputs": [
    {
     "data": {
      "text/plain": [
       "Text(0.5, 0.01, 'Votes (Count)')"
      ]
     },
     "execution_count": 68,
     "metadata": {},
     "output_type": "execute_result"
    },
    {
     "data": {
      "image/png": "[encoded data removed]",
      "text/plain": [
       "<Figure size 432x288 with 1 Axes>"
      ]
     },
     "metadata": {
      "needs_background": "light"
     },
     "output_type": "display_data"
    }
   ],
   "source": [
    "### distribution of votes\n",
    "fig, axes = plt.subplots(nrows=1, ncols=1, sharex=True, sharey=True)\n",
    "\n",
    "digital[\"vote\"].astype(int).plot(kind='hist', ax = axes, title='Digital Review Vote Distribution')\n",
    "fig.text(0.5, 0.01, 'Votes (Count)', ha='center')"
   ]
  },
  {
   "cell_type": "markdown",
   "id": "5b6b549c-c783-40e9-9ac8-e91d78914c5d",
   "metadata": {},
   "source": [
    "Will probably have to check of for power law distribution on this...."
   ]
  },
  {
   "cell_type": "code",
   "execution_count": 64,
   "id": "e749effc-ac46-459d-9ad8-3877c95b1357",
   "metadata": {},
   "outputs": [],
   "source": [
    "physical[\"vote\"] = physical[\"vote\"].astype(str)\n",
    "physical[\"vote\"] = physical.apply(lambda x: x[\"vote\"].replace(\",\", \"\") if \",\" in x[\"vote\"] else x[\"vote\"], axis=1)"
   ]
  },
  {
   "cell_type": "code",
   "execution_count": 67,
   "id": "2c6a86f9-3f94-474b-b975-6eaba78c3182",
   "metadata": {},
   "outputs": [
    {
     "data": {
      "text/plain": [
       "Text(0.5, 0.01, 'Votes (Count)')"
      ]
     },
     "execution_count": 67,
     "metadata": {},
     "output_type": "execute_result"
    },
    {
     "data": {
      "image/png": "[encoded data removed]",
      "text/plain": [
       "<Figure size 432x288 with 1 Axes>"
      ]
     },
     "metadata": {
      "needs_background": "light"
     },
     "output_type": "display_data"
    }
   ],
   "source": [
    "fig, axes = plt.subplots(nrows=1, ncols=1, sharex=True, sharey=True)\n",
    "physical[\"vote\"].astype(int).plot(kind='hist', ax = axes, title='Physical Review Vote Distribution')\n",
    "fig.text(0.5, 0.01, 'Votes (Count)', ha='center')"
   ]
  },
  {
   "cell_type": "code",
   "execution_count": 90,
   "id": "727825ef-1d3b-4e15-b977-6d9bf31a8b41",
   "metadata": {},
   "outputs": [
    {
     "data": {
      "image/png": "[encoded data removed]",
      "text/plain": [
       "<Figure size 432x288 with 1 Axes>"
      ]
     },
     "metadata": {
      "needs_background": "light"
     },
     "output_type": "display_data"
    }
   ],
   "source": [
    "### relation between star ratings and votes\n",
    "\n",
    "fig, axes = plt.subplots(nrows=1, ncols=1, sharex=True, sharey=True)\n",
    "plt.scatter(digital[\"overall\"], digital[\"vote\"], alpha=0.2)\n",
    "\n",
    "plt.title('Star Rating vs Number of Votes on Digital Reviews', x=0.5, y=1, ha='center')\n",
    "fig.text(0.5, 0.01, 'Star Rating on Review', ha='center')\n",
    "fig.text(0.92, 0.5, 'Number of Votes on Review', va='center', rotation='vertical')\n",
    "\n",
    "plt.show()"
   ]
  },
  {
   "cell_type": "code",
   "execution_count": 104,
   "id": "ad70901e-d9ee-4f74-a481-a7d44f34fbdc",
   "metadata": {},
   "outputs": [
    {
     "data": {
      "image/png": "[encoded data removed]",
      "text/plain": [
       "<Figure size 432x288 with 1 Axes>"
      ]
     },
     "metadata": {
      "needs_background": "light"
     },
     "output_type": "display_data"
    }
   ],
   "source": [
    "fig, axes = plt.subplots(nrows=1, ncols=1, sharex=True, sharey=True)\n",
    "\n",
    "plt.scatter(physical[\"overall\"], physical[\"vote\"].astype(int), c=physical[\"verified\"], cmap= \"viridis\", alpha=0.1)\n",
    "\n",
    "plt.title('Star Rating vs Number of Votes on Physical Reviews', x=0.5, y=1, ha='center')\n",
    "fig.text(0.5, 0.01, 'Star Rating on Review', ha='center')\n",
    "fig.text(0.92, 0.5, 'Number of Votes on Review', va='center', rotation='vertical')\n",
    "\n",
    "plt.show()"
   ]
  },
  {
   "cell_type": "code",
   "execution_count": 101,
   "id": "3ce7a79d-5bb8-4694-b718-5f92dc10f1d1",
   "metadata": {},
   "outputs": [
    {
     "data": {
      "image/png": "[encoded data removed]",
      "text/plain": [
       "<Figure size 432x288 with 1 Axes>"
      ]
     },
     "metadata": {
      "needs_background": "light"
     },
     "output_type": "display_data"
    }
   ],
   "source": [
    "### relation between verified and votes\n",
    "fig, axes = plt.subplots(nrows=1, ncols=1, sharex=True, sharey=True)\n",
    "\n",
    "plt.scatter(physical[\"verified\"], physical[\"vote\"].astype(int), alpha=0.2)\n",
    "\n",
    "plt.title('Star Rating vs Number of Votes on Physical Reviews', x=0.5, y=1, ha='center')\n",
    "fig.text(0.5, 0.01, 'Star Rating on Review', ha='center')\n",
    "fig.text(0.92, 0.5, 'Number of Votes on Review', va='center', rotation='vertical')\n",
    "\n",
    "plt.show()"
   ]
  },
  {
   "cell_type": "code",
   "execution_count": null,
   "id": "6b4d8cf7-f218-4592-a989-1a00c2e540c1",
   "metadata": {},
   "outputs": [],
   "source": [
    "### qqplot for star distribution between physical and digital"
   ]
  },
  {
   "cell_type": "code",
   "execution_count": null,
   "id": "9bfa3de0-0373-4ccd-b328-e206ca2cc70f",
   "metadata": {},
   "outputs": [],
   "source": []
  },
  {
   "cell_type": "code",
   "execution_count": null,
   "id": "2b9f9eda-37ca-4c25-9d37-8d050c914e47",
   "metadata": {},
   "outputs": [],
   "source": [
    "### chi square for the music categories in the physical section"
   ]
  },
  {
   "cell_type": "code",
   "execution_count": 1,
   "id": "f0d07285-00aa-4218-869f-de38ec12f476",
   "metadata": {},
   "outputs": [],
   "source": [
    "### how many verified votes between the two "
   ]
  },
  {
   "cell_type": "code",
   "execution_count": null,
   "id": "0fb3ce95-2c2c-48f6-acc8-2b576ab6187e",
   "metadata": {},
   "outputs": [],
   "source": [
    "### chi square for verified votes for the two"
   ]
  },
  {
   "cell_type": "code",
   "execution_count": null,
   "id": "0fcbd02e-9cf6-44a6-8423-1f0b8dbff57e",
   "metadata": {},
   "outputs": [],
   "source": []
  },
  {
   "cell_type": "code",
   "execution_count": null,
   "id": "9c370246-87e4-4647-b659-0b11d25770a4",
   "metadata": {},
   "outputs": [],
   "source": [
    "### simple sentiment analysis for the digital group and physical group"
   ]
  },
  {
   "cell_type": "code",
   "execution_count": null,
   "id": "e42be997-79a1-4cb5-8cdf-8226a7da7a08",
   "metadata": {},
   "outputs": [],
   "source": [
    "### is there a way to notice different writing complexity betweenn the groups?"
   ]
  }
 ],
 "metadata": {
  "kernelspec": {
   "display_name": "Python 3",
   "language": "python",
   "name": "python3"
  },
  "language_info": {
   "codemirror_mode": {
    "name": "ipython",
    "version": 3
   },
   "file_extension": ".py",
   "mimetype": "text/x-python",
   "name": "python",
   "nbconvert_exporter": "python",
   "pygments_lexer": "ipython3",
   "version": "3.8.8"
  }
 },
 "nbformat": 4,
 "nbformat_minor": 5
}
